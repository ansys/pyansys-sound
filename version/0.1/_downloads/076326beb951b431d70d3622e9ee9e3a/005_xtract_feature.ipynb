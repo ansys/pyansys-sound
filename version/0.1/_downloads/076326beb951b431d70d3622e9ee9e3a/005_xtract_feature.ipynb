{
  "cells": [
    {
      "cell_type": "markdown",
      "metadata": {},
      "source": [
        "# Use the Xtract feature {#xtract_feature_example}\r\n\r\nThis example shows how to use the Xtract feature in PyAnsys Sound. It\r\ndemonstrates different capabilities of this feature, such as noise\r\nextraction, tonal extraction, and transient extraction.\r\n"
      ]
    },
    {
      "cell_type": "code",
      "execution_count": null,
      "metadata": {
        "collapsed": false
      },
      "outputs": [],
      "source": [
        "# Maximum frequency for STFT plots, change according to your need\nMAX_FREQUENCY_PLOT_STFT = 5000.0"
      ]
    },
    {
      "cell_type": "markdown",
      "metadata": {},
      "source": [
        "# Set up analysis\r\n\r\nSetting up the analysis consists of loading Ansys libraries, connecting\r\nto the DPF server, and retrieving the example files.\r\n"
      ]
    },
    {
      "cell_type": "code",
      "execution_count": null,
      "metadata": {
        "collapsed": false
      },
      "outputs": [],
      "source": [
        "# Load Ansys libraries.\nimport os\n\nimport matplotlib.pyplot as plt\nimport numpy as np\n\nfrom ansys.sound.core.examples_helpers import (\n    download_xtract_demo_signal_1_wav,\n    download_xtract_demo_signal_2_wav,\n)\nfrom ansys.sound.core.server_helpers import connect_to_or_start_server\nfrom ansys.sound.core.signal_utilities import CropSignal, LoadWav\nfrom ansys.sound.core.spectrogram_processing import Stft\nfrom ansys.sound.core.xtract import (\n    Xtract,\n    XtractDenoiser,\n    XtractDenoiserParameters,\n    XtractTonal,\n    XtractTonalParameters,\n    XtractTransient,\n    XtractTransientParameters,\n)\n\n# Connect to a remote server or start a local server\nmy_server = connect_to_or_start_server(use_license_context=True)"
      ]
    },
    {
      "cell_type": "markdown",
      "metadata": {},
      "source": [
        "# Define a custom function for STFT plots\r\n\r\nDefine a custom function for STFT plots lets you have more control over\r\nwhat you are displaying. While you could use the `Stft.plot()` method,\r\nthe custom function defined here restricts the frequency range of the\r\nplot.\r\n"
      ]
    },
    {
      "cell_type": "code",
      "execution_count": null,
      "metadata": {
        "collapsed": false
      },
      "outputs": [],
      "source": [
        "def plot_stft(stft_class, SPLmax, title=\"STFT\", maximum_frequency=MAX_FREQUENCY_PLOT_STFT):\n    \"\"\"Plot a short-term Fourier transform (STFT) into a figure window.\n\n    Parameters\n    ----------\n    stft_class: Stft\n        Object containing the STFT.\n    SPLmax: float\n        Maximum value (here in dB SPL) for the colormap.\n    title: str\n        Title of the figure.\n    maximum_frequency: float\n        Maximum frequency in Hz to display.\n    \"\"\"\n    out = stft_class.get_output_as_nparray()\n\n    # Extract first half of the STFT (second half is symmetrical)\n    half_nfft = int(out.shape[0] / 2) + 1\n    magnitude = stft_class.get_stft_magnitude_as_nparray()\n\n    # Voluntarily ignore a numpy warning\n    np.seterr(divide=\"ignore\")\n    magnitude = 20 * np.log10(magnitude[0:half_nfft, :])\n    np.seterr(divide=\"warn\")\n\n    # Obtain sampling frequency, time steps, and number of time samples\n    fs = 1.0 / (\n        stft_class.signal.time_freq_support.time_frequencies.data[1]\n        - stft_class.signal.time_freq_support.time_frequencies.data[0]\n    )\n    time_step = np.floor(stft_class.fft_size * (1.0 - stft_class.window_overlap) + 0.5) / fs\n    num_time_index = len(stft_class.get_output().get_available_ids_for_label(\"time\"))\n\n    # Define boundaries of the plot\n    extent = [0, time_step * num_time_index, 0.0, fs / 2.0]\n\n    # Plot\n    plt.figure()\n    plt.imshow(\n        magnitude,\n        origin=\"lower\",\n        aspect=\"auto\",\n        cmap=\"jet\",\n        extent=extent,\n        vmax=SPLmax,\n        vmin=(SPLmax - 70.0),\n    )\n    plt.colorbar(label=\"Magnitude (dB SPL)\")\n    plt.ylabel(\"Frequency (Hz)\")\n    plt.xlabel(\"Time (s)\")\n    plt.ylim([0.0, maximum_frequency])  # Change the value of MAX_FREQUENCY_PLOT_STFT if needed\n    plt.title(title)\n    plt.show()"
      ]
    },
    {
      "cell_type": "markdown",
      "metadata": {},
      "source": [
        "# Load a demo signal for Xtract\r\n\r\nLoad a demo signal from a WAV file using the `LoadWav` class. The WAV\r\nfile contains harmonics and shocks.\r\n"
      ]
    },
    {
      "cell_type": "code",
      "execution_count": null,
      "metadata": {
        "collapsed": false
      },
      "outputs": [],
      "source": [
        "# Return the input data of the example file\npath_xtract_demo_signal_1 = download_xtract_demo_signal_1_wav()\n\n# Load the WAV file\nwav_loader = LoadWav(path_to_wav=path_xtract_demo_signal_1)\nwav_loader.process()\n\n# Plot the signal in time domain\ntime_domain_signal = wav_loader.get_output()[0]\ntime_vector = time_domain_signal.time_freq_support.time_frequencies.data\nplt.plot(time_vector, time_domain_signal.data)\nplt.title(\"Xtract Demo Signal 1\")\nplt.grid(True)\nplt.xlabel(\"Time (s)\")\nplt.ylabel(\"Amplitude (Pa)\")\nplt.show()\n\n# Compute the spectrogram of the signal and plot it\nstft_original = Stft(signal=wav_loader.get_output()[0], fft_size=1024, window_overlap=0.9)\nstft_original.process()\nmax_stft = 20 * np.log10(np.max(stft_original.get_stft_magnitude_as_nparray()))\n\nplot_stft(stft_original, SPLmax=max_stft, maximum_frequency=20000.0)"
      ]
    },
    {
      "cell_type": "markdown",
      "metadata": {},
      "source": [
        "# Use individual extraction features\r\n\r\nThe following topics show how to use different capabilities of Xtract\r\nindependently.\r\n"
      ]
    },
    {
      "cell_type": "markdown",
      "metadata": {},
      "source": [
        "# Noise extraction\r\n\r\nThe goal is to isolate a fan noise deprived of any tonal content in the\r\ndemo signal.\r\n"
      ]
    },
    {
      "cell_type": "code",
      "execution_count": null,
      "metadata": {
        "collapsed": false
      },
      "outputs": [],
      "source": [
        "# Create a noise pattern using the first two seconds of the signal.\n# First crop the first two seconds of the signal.\nsignal_cropper = CropSignal(signal=time_domain_signal, start_time=0.0, end_time=2.0)\nsignal_cropper.process()\ncropped_signal = signal_cropper.get_output()\n\n# Then use the 'XtractDenoiserParameters' class to create the noise pattern.\nxtract_denoiser_params = XtractDenoiserParameters()\nxtract_denoiser_params.noise_psd = xtract_denoiser_params.create_noise_psd_from_noise_samples(\n    signal=cropped_signal, sampling_frequency=44100.0, window_length=100\n)\n\n# Denoise the signal using the 'XtractDenoiser' class.\nxtract_denoiser = XtractDenoiser(\n    input_signal=time_domain_signal, input_parameters=xtract_denoiser_params\n)\nxtract_denoiser.process()\n\nnoise_signal = xtract_denoiser.get_output()[1]\n\n# Plot the original signal and the noise signal in the same window\nplt.plot(time_vector, time_domain_signal.data, label=\"Original Signal\")\nplt.plot(time_vector, noise_signal.data, label=\"Noise Signal\")\nplt.grid(True)\nplt.xlabel(\"Time (s)\")\nplt.ylabel(\"Amplitude (Pa)\")\nplt.title(\"Original Signal and Noise Signal\")\nplt.legend()\nplt.show()"
      ]
    },
    {
      "cell_type": "markdown",
      "metadata": {},
      "source": [
        "# Tone extraction\r\n\r\nThe goal is to isolate the tones using the right settings.\r\n"
      ]
    },
    {
      "cell_type": "code",
      "execution_count": null,
      "metadata": {
        "collapsed": false
      },
      "outputs": [],
      "source": [
        "# Try a first attempt of tone extraction with a\n# First set of parameters using the 'XtractTonalParameters' class.\nxtract_tonal_params = XtractTonalParameters()\nxtract_tonal_params.regularity = 1.0\nxtract_tonal_params.maximum_slope = 1000.0\nxtract_tonal_params.minimum_duration = 0.22\nxtract_tonal_params.intertonal_gap = 10.0\nxtract_tonal_params.local_emergence = 2.0\nxtract_tonal_params.fft_size = 2048\n\n## Now perform the tonal extraction using the 'XtractTonal' class\nxtract_tonal = XtractTonal(input_signal=time_domain_signal, input_parameters=xtract_tonal_params)\nxtract_tonal.process()"
      ]
    },
    {
      "cell_type": "markdown",
      "metadata": {},
      "source": [
        "Plot the spectrogram to assess the quality of the output.\r\n"
      ]
    },
    {
      "cell_type": "code",
      "execution_count": null,
      "metadata": {
        "collapsed": false
      },
      "outputs": [],
      "source": [
        "stft_modified_signal = Stft(signal=xtract_tonal.get_output()[0], fft_size=1024, window_overlap=0.9)\nstft_modified_signal.process()\n\nprint(\"Plot of the spectrograms with tonal extraction parameters that do not work.\")\n\n## Spectrogram of the original signal\nplot_stft(stft_original, SPLmax=max_stft, title=\"Original Signal\")\n\n## Spectrogram of the modified signal\nplot_stft(stft_modified_signal, SPLmax=max_stft, title=\"Extracted Tones\")\n# You can see from the obtained plot that the tones are not properly extracted."
      ]
    },
    {
      "cell_type": "markdown",
      "metadata": {},
      "source": [
        "Try again with a different parameter for the maximum slope.\r\n"
      ]
    },
    {
      "cell_type": "code",
      "execution_count": null,
      "metadata": {
        "collapsed": false
      },
      "outputs": [],
      "source": [
        "xtract_tonal_params.maximum_slope = 5000.0\nxtract_tonal.process()\n\n# Recheck the plots\nprint(\"Plot of the spectrograms with the right tonal extraction parameters.\")\nplot_stft(stft_original, SPLmax=max_stft, title=\"Original Signal\")\n\n# Spectrogram of the modified signal\nstft_modified_signal.signal = xtract_tonal.get_output()[0]\nstft_modified_signal.process()\nplot_stft(stft_modified_signal, SPLmax=max_stft, title=\"Extracted Tones\")"
      ]
    },
    {
      "cell_type": "markdown",
      "metadata": {},
      "source": [
        "# Transient extraction\r\n\r\nThe goal is to isolate the transients using the right settings. While\r\nthese settings are not as easy to handle, they are well explained in the\r\ntutorial videos installed with the Ansys Sound Analysis and\r\nSpecification (SAS) standalone application (with the user interface).\r\nYou can also find the [SAS - XTRACT\r\ntransient](https://learninghub.ansys.com/share/asset/view/108) videos on\r\nthe Ansys Learning Hub.\r\n"
      ]
    },
    {
      "cell_type": "code",
      "execution_count": null,
      "metadata": {
        "collapsed": false
      },
      "outputs": [],
      "source": [
        "# Create a set of transient parameters.\n# This example assumes that the best minimum and maximum thresholds are known.\n# You can use the SAS interface to help set up these thresholds interactively.\nxtract_transient_params = XtractTransientParameters(lower_threshold=51.5, upper_threshold=60.0)\n\n# Perform the transient extraction using the 'XtractTransient' class.\nxtract_transient = XtractTransient(\n    input_signal=time_domain_signal, input_parameters=xtract_transient_params\n)\nxtract_transient.process()\ntransient_signal = xtract_transient.get_output()[0]\n\n# Plot the original signal and the transient signal in the same window\nplt.plot(time_vector, time_domain_signal.data, label=\"Original Signal\", linewidth=0.1)\nplt.plot(time_vector, transient_signal.data, label=\"Transient Signal\", linewidth=0.1)\nplt.grid(True)\nplt.xlabel(\"Time (s)\")\nplt.ylabel(\"Amplitude (Pa)\")\nplt.title(\"Original Signal and Transient signal\")\nleg = plt.legend()\nfor line in leg.get_lines():\n    line.set_linewidth(0.5)\nplt.show()"
      ]
    },
    {
      "cell_type": "markdown",
      "metadata": {},
      "source": [
        "# Use a combination of extraction features and loop on several signals\r\n\r\nThe idea here is to loop over several signals and use the `Xtract` class\r\nto combine all previous classes.\r\n"
      ]
    },
    {
      "cell_type": "code",
      "execution_count": null,
      "metadata": {
        "collapsed": false
      },
      "outputs": [],
      "source": [
        "path_xtract_demo_signal_2 = download_xtract_demo_signal_2_wav()\n\npaths = [path_xtract_demo_signal_1, path_xtract_demo_signal_2]\n\n# Instantiate the 'Xtract' class with the parameters previously set\nxtract = Xtract(\n    parameters_denoiser=xtract_denoiser_params,\n    parameters_tonal=xtract_tonal_params,\n    parameters_transient=xtract_transient_params,\n)\n\n# Loop over all signal paths contained in the 'paths' variable\nfor p in paths:\n    # Name the signal using the file name\n    signal_name = os.path.basename(p)\n\n    # Load the signal\n    wav_loader.path_to_wav = p\n    wav_loader.process()\n    time_domain_signal = wav_loader.get_output()[0]\n\n    # Plot the time domain signal\n    ylims = [-3.0, 3.0]\n    plt.figure()\n    plt.plot(time_vector, time_domain_signal.data, label=\"Original Signal\")\n    plt.ylim(ylims)\n    plt.ylabel(\"Amplitude (Pa)\")\n    plt.xlabel(\"Time (s)\")\n    plt.grid()\n    plt.legend()\n    plt.title(signal_name)\n    plt.show()\n\n    # Compute and plot the STFT\n    stft_original.signal = time_domain_signal\n    stft_original.process()\n    plot_stft(stft_class=stft_original, SPLmax=max_stft, title=f\"STFT for signal {signal_name}\")\n\n    # Use Xtract with the loaded signal\n    xtract.input_signal = time_domain_signal\n    xtract.process()\n\n    # Collect outputs and plot everything in one window\n    noise_signal, tonal_signal, transient_signal, remainder_signal = xtract.get_output()\n\n    f, axs = plt.subplots(nrows=5)\n    axs[0].plot(time_vector, time_domain_signal.data, label=\"Original Signal\", color=\"blue\")\n    axs[1].plot(time_vector, noise_signal.data, label=\"Noise Signal\", color=\"red\")\n    axs[2].plot(time_vector, tonal_signal.data, label=\"Tonal Signal\", color=\"green\")\n    axs[2].set(ylabel=\"Amplitude (Pa)\")  # Set ylabel for middle plot only\n    axs[3].plot(time_vector, transient_signal.data, label=\"Transient Signal\", color=\"purple\")\n    axs[4].plot(time_vector, remainder_signal.data, label=\"Remainder Signal\", color=\"black\")\n\n    for ax in axs:\n        ax.set_ylim(ylims)\n        ax.grid()\n        ax.legend()\n        ax.set_aspect(\"auto\")\n\n    plt.xlabel(\"Time (s)\")\n    plt.legend()\n    plt.suptitle(f\"Original and extracted signals for {signal_name}\")\n    plt.show()"
      ]
    }
  ],
  "metadata": {
    "kernelspec": {
      "display_name": "Python 3",
      "language": "python",
      "name": "python3"
    },
    "language_info": {
      "codemirror_mode": {
        "name": "ipython",
        "version": 3
      },
      "file_extension": ".py",
      "mimetype": "text/x-python",
      "name": "python",
      "nbconvert_exporter": "python",
      "pygments_lexer": "ipython3",
      "version": "3.12.3"
    }
  },
  "nbformat": 4,
  "nbformat_minor": 0
}