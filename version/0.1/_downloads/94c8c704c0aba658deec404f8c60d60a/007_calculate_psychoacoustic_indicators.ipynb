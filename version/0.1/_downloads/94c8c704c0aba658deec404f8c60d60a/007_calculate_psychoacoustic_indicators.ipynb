{
  "cells": [
    {
      "cell_type": "markdown",
      "metadata": {},
      "source": [
        "# Calculate psychoacoustic indicators {#calculate_psychoacoustic_indicators}\r\n\r\nThis example shows how to calculate psychoacoustic indicators. The\r\nfollowing indicators are included:\r\n\r\n-   Loudness of stationary sounds according to ISO 532-1.\r\n-   Loudness of time-varying sounds according to ISO 532-1.\r\n-   Sharpness according to Zwicker and Fastl, \\\"Psychoacoustics: Facts\r\n    and models\\\", 1990.\r\n-   Roughness according to Daniel and Weber, \\\"Psychoacoustical\r\n    Roughness: Implementation of an Optimized Model, 1997.\r\n-   Fluctuation strength according to Sontacchi, \\\"Entwicklung eines\r\n    Modulkonzeptes f\u00fcr die psychoakustische Ger\u00e4uschanalyse under MatLab\r\n    Diplomarbeit\\\", 1998.\r\n\r\nThe example shows how to perform these operations:\r\n\r\n-   Set up the analysis.\r\n-   Calculate indicators on loaded WAV files.\r\n-   Get calculation outputs.\r\n-   Plot some corresponding curves.\r\n"
      ]
    },
    {
      "cell_type": "markdown",
      "metadata": {},
      "source": [
        "# Set up analysis\r\n\r\nSetting up the analysis consists of loading Ansys libraries, connecting\r\nto the DPF server, and retrieving the example files.\r\n"
      ]
    },
    {
      "cell_type": "code",
      "execution_count": null,
      "metadata": {
        "collapsed": false
      },
      "outputs": [],
      "source": [
        "# Load Ansys libraries.\nimport os\n\nimport numpy as np\n\nfrom ansys.sound.core.examples_helpers import (\n    download_accel_with_rpm_wav,\n    download_flute_2_wav,\n    download_flute_wav,\n)\nfrom ansys.sound.core.psychoacoustics import (\n    FluctuationStrength,\n    LoudnessISO532_1_Stationary,\n    LoudnessISO532_1_TimeVarying,\n    Roughness,\n    Sharpness,\n)\nfrom ansys.sound.core.psychoacoustics.roughness import Roughness\nfrom ansys.sound.core.psychoacoustics.sharpness import Sharpness\nfrom ansys.sound.core.server_helpers import connect_to_or_start_server\nfrom ansys.sound.core.signal_utilities import LoadWav\n\n# Connect to a remote server or start a local server.\nserver = connect_to_or_start_server()"
      ]
    },
    {
      "cell_type": "markdown",
      "metadata": {},
      "source": [
        "# Calculate ISO 532-1 loudness for a stationary sound\r\n\r\nLoad a signal from a WAV file using the `LoadWav` class. It is returned\r\nas a DPF field container. For more information, see\r\n[fields_container](https://dpf.docs.pyansys.com/version/stable/api/ansys.dpf.core.operators.utility.fields_container.html)\r\nin the DPF-Core API documentation.\r\n"
      ]
    },
    {
      "cell_type": "code",
      "execution_count": null,
      "metadata": {
        "collapsed": false
      },
      "outputs": [],
      "source": [
        "# Load example data from WAV file\npath_flute_wav = download_flute_wav()\nwav_loader = LoadWav(path_flute_wav)\nwav_loader.process()\nfc_signal = wav_loader.get_output()"
      ]
    },
    {
      "cell_type": "markdown",
      "metadata": {},
      "source": [
        "Create a `LoudnessISO532_1_Stationary` object, set its signal, and\r\ncompute the loudness.\r\n"
      ]
    },
    {
      "cell_type": "code",
      "execution_count": null,
      "metadata": {
        "collapsed": false
      },
      "outputs": [],
      "source": [
        "loudness_stationary = LoudnessISO532_1_Stationary(signal=fc_signal)\nloudness_stationary.process()"
      ]
    },
    {
      "cell_type": "markdown",
      "metadata": {},
      "source": [
        "Get the value in sone or in phon.\r\n"
      ]
    },
    {
      "cell_type": "code",
      "execution_count": null,
      "metadata": {
        "collapsed": false
      },
      "outputs": [],
      "source": [
        "loudness_sone = loudness_stationary.get_loudness_sone()\nloudness_level_phon = loudness_stationary.get_loudness_level_phon()\nfile_name = os.path.basename(path_flute_wav)\nprint(\n    f\"\\nThe loudness of sound file {file_name} \"\n    f\"is{loudness_sone: .1f} sones \"\n    f\"or{loudness_level_phon: .1f} phons.\"\n)"
      ]
    },
    {
      "cell_type": "markdown",
      "metadata": {},
      "source": [
        "Plot the specific loudness.\r\n"
      ]
    },
    {
      "cell_type": "code",
      "execution_count": null,
      "metadata": {
        "collapsed": false
      },
      "outputs": [],
      "source": [
        "loudness_stationary.plot()"
      ]
    },
    {
      "cell_type": "markdown",
      "metadata": {},
      "source": [
        "# Calculate ISO 532-1 loudness for several signals at once\r\n\r\nLoad another WAV file and store it along with the first one.\r\n"
      ]
    },
    {
      "cell_type": "code",
      "execution_count": null,
      "metadata": {
        "collapsed": false
      },
      "outputs": [],
      "source": [
        "path_flute2_wav = download_flute_2_wav()\nwav_loader = LoadWav(path_flute2_wav)\nwav_loader.process()\n\n# Store the second signal as a second field in the DPF fields container.\nfc_two_signals = fc_signal\nfc_two_signals.add_field({\"channel_number\": 1}, wav_loader.get_output()[0])"
      ]
    },
    {
      "cell_type": "markdown",
      "metadata": {},
      "source": [
        "Calculate the loudness for both signals at once.\r\n"
      ]
    },
    {
      "cell_type": "code",
      "execution_count": null,
      "metadata": {
        "collapsed": false
      },
      "outputs": [],
      "source": [
        "loudness_stationary = LoudnessISO532_1_Stationary(signal=fc_two_signals)\nloudness_stationary.process()"
      ]
    },
    {
      "cell_type": "markdown",
      "metadata": {},
      "source": [
        "Get the values in sone or in phon.\r\n"
      ]
    },
    {
      "cell_type": "code",
      "execution_count": null,
      "metadata": {
        "collapsed": false
      },
      "outputs": [],
      "source": [
        "loudness_sone2 = loudness_stationary.get_loudness_sone(1)\nloudness_level_phon2 = loudness_stationary.get_loudness_level_phon(1)\nfile_name2 = os.path.basename(path_flute2_wav)\nprint(\n    f\"In comparison, the loudness of sound file {file_name2} \"\n    f\"is{loudness_sone2: .1f} sones \"\n    f\"or{loudness_level_phon2: .1f} phons.\"\n)"
      ]
    },
    {
      "cell_type": "markdown",
      "metadata": {},
      "source": [
        "Plot specific loudness for both signals in a single figure. Note how the\r\nfirst sound has a higher specific loudness than the second.\r\n"
      ]
    },
    {
      "cell_type": "code",
      "execution_count": null,
      "metadata": {
        "collapsed": false
      },
      "outputs": [],
      "source": [
        "loudness_stationary.plot()"
      ]
    },
    {
      "cell_type": "markdown",
      "metadata": {},
      "source": [
        "# Calculate ISO 532-1 loudness for a non-stationary sound\r\n\r\nLoad a new signal (non-stationary) from a WAV file.\r\n"
      ]
    },
    {
      "cell_type": "code",
      "execution_count": null,
      "metadata": {
        "collapsed": false
      },
      "outputs": [],
      "source": [
        "path_accel_wav = download_accel_with_rpm_wav()\nwav_loader = LoadWav(path_accel_wav)\nwav_loader.process()\nf_signal = wav_loader.get_output()[0]  # Field 0 only, because the RPM profile is useless here."
      ]
    },
    {
      "cell_type": "markdown",
      "metadata": {},
      "source": [
        "Create a `LoudnessISO532_1_TimeVarying` object, set its signal, and\r\ncompute the loudness.\r\n"
      ]
    },
    {
      "cell_type": "code",
      "execution_count": null,
      "metadata": {
        "collapsed": false
      },
      "outputs": [],
      "source": [
        "loudness_time_varying = LoudnessISO532_1_TimeVarying(signal=f_signal)\nloudness_time_varying.process()"
      ]
    },
    {
      "cell_type": "markdown",
      "metadata": {},
      "source": [
        "Get percentile loudness values.\r\n"
      ]
    },
    {
      "cell_type": "code",
      "execution_count": null,
      "metadata": {
        "collapsed": false
      },
      "outputs": [],
      "source": [
        "N5 = loudness_time_varying.get_N5_sone()\nN10 = loudness_time_varying.get_N10_sone()\nL5 = loudness_time_varying.get_L5_phon()\nL10 = loudness_time_varying.get_L10_phon()\n\nfile_name3 = os.path.basename(path_accel_wav)\nprint(\n    f\"\\nThe sound file {file_name3} has the following percentile loudness values: \\n\"\n    f\"- N5  = {np.round(N5, 1)} sones.\\n\"\n    f\"- N10 = {np.round(N10, 1)} sones.\\n\"\n    f\"- L5  = {np.round(L5, 1)} phons.\\n\"\n    f\"- L10 = {np.round(L10, 1)} phons.\"\n)"
      ]
    },
    {
      "cell_type": "markdown",
      "metadata": {},
      "source": [
        "Plot loudness as a function of time.\r\n"
      ]
    },
    {
      "cell_type": "code",
      "execution_count": null,
      "metadata": {
        "collapsed": false
      },
      "outputs": [],
      "source": [
        "loudness_time_varying.plot()"
      ]
    },
    {
      "cell_type": "markdown",
      "metadata": {},
      "source": [
        "# Calculate sharpness, roughness, and fluctuation strength\r\n\r\nCalculate sharpness, roughness, and fluctuation strength for the two\r\nsounds.\r\n"
      ]
    },
    {
      "cell_type": "markdown",
      "metadata": {},
      "source": [
        "Calculate the sharpness.\r\n"
      ]
    },
    {
      "cell_type": "code",
      "execution_count": null,
      "metadata": {
        "collapsed": false
      },
      "outputs": [],
      "source": [
        "sharpness = Sharpness(signal=fc_two_signals)\nsharpness.process()\nsharpness_values = (sharpness.get_sharpness(0), sharpness.get_sharpness(1))"
      ]
    },
    {
      "cell_type": "markdown",
      "metadata": {},
      "source": [
        "Calculate the roughness.\r\n"
      ]
    },
    {
      "cell_type": "code",
      "execution_count": null,
      "metadata": {
        "collapsed": false
      },
      "outputs": [],
      "source": [
        "roughness = Roughness(signal=fc_two_signals)\nroughness.process()\nroughness_values = (roughness.get_roughness(0), roughness.get_roughness(1))"
      ]
    },
    {
      "cell_type": "markdown",
      "metadata": {},
      "source": [
        "Calculate the fluctuation strength.\r\n"
      ]
    },
    {
      "cell_type": "code",
      "execution_count": null,
      "metadata": {
        "collapsed": false
      },
      "outputs": [],
      "source": [
        "fluctuation_strength = FluctuationStrength(signal=fc_two_signals)\nfluctuation_strength.process()\nfluctuation_strength_values = (\n    fluctuation_strength.get_fluctuation_strength(0),\n    fluctuation_strength.get_fluctuation_strength(1),\n)"
      ]
    },
    {
      "cell_type": "markdown",
      "metadata": {},
      "source": [
        "Print the results.\r\n"
      ]
    },
    {
      "cell_type": "code",
      "execution_count": null,
      "metadata": {
        "collapsed": false
      },
      "outputs": [],
      "source": [
        "print(\n    f\"\\nThe sharpness of sound file {file_name} \"\n    f\"is{sharpness_values[0]: .2f} acum, \"\n    f\"its roughness is{roughness_values[0]: .2f} asper, \"\n    f\"and its fluctuation strength is{fluctuation_strength_values[0]: .2f} vacil.\\n\"\n    f\"For sound file {file_name2}, these indicators' values are, respectively, \"\n    f\"{sharpness_values[1]: .2f} acum, \"\n    f\"{roughness_values[1]: .2f} asper, \"\n    f\"and{fluctuation_strength_values[1]: .2f} vacil.\\n\"\n)"
      ]
    }
  ],
  "metadata": {
    "kernelspec": {
      "display_name": "Python 3",
      "language": "python",
      "name": "python3"
    },
    "language_info": {
      "codemirror_mode": {
        "name": "ipython",
        "version": 3
      },
      "file_extension": ".py",
      "mimetype": "text/x-python",
      "name": "python",
      "nbconvert_exporter": "python",
      "pygments_lexer": "ipython3",
      "version": "3.12.3"
    }
  },
  "nbformat": 4,
  "nbformat_minor": 0
}