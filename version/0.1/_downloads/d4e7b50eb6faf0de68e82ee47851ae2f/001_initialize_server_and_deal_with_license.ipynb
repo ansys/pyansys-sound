{
  "cells": [
    {
      "cell_type": "markdown",
      "metadata": {},
      "source": [
        "# Initialize PyAnsys Sound and check out the license {#initialize_server_and_deal_with_license}\r\n\r\nThis example shows how to initialize PyDPF-Core, load DPF Sound, and\r\ncheck out the required Ansys license (`increment avrxp_snd_level1`) only\r\nonce. It also shows how to connect to the DPF server, verify where it is\r\nlocated, and get other useful information.\r\n\r\nThis example also demonstrates the use of the LicenseContextManager, a\r\nmechanism that lets you check out the license only once for the duration\r\nof the session, which greatly improves performance. It shows the\r\nexecution time of a simple DPF Sound operator when you do not use the\r\nLicenseContextManager versus when you do use it.\r\n\r\n**Prerequisites**\r\n\r\nEnsure that you have installed PyDPF-Core and DPF Sound according to\r\nprocedures in the PyDPF-Core documentation:\r\n\r\n-   If you have installed the latest Ansys release, see [Install using\r\n    pip](https://dpf.docs.pyansys.com/version/stable/getting_started/install.html#installation).\r\n-   If you want to use the DPF standalone version, see [Install DPF\r\n    Server](https://dpf.docs.pyansys.com/version/stable/getting_started/dpf_server.html#dpf-server).\r\n"
      ]
    },
    {
      "cell_type": "markdown",
      "metadata": {},
      "source": [
        "# Perform required imports\r\n\r\nPerform the required imports:\r\n"
      ]
    },
    {
      "cell_type": "code",
      "execution_count": null,
      "metadata": {
        "collapsed": false
      },
      "outputs": [],
      "source": [
        "# Load Ansys and other libraries.\nimport datetime\n\nimport ansys.dpf.core as dpf\n\nfrom ansys.sound.core.examples_helpers import download_flute_wav\nfrom ansys.sound.core.server_helpers import connect_to_or_start_server\nfrom ansys.sound.core.signal_utilities import LoadWav"
      ]
    },
    {
      "cell_type": "markdown",
      "metadata": {},
      "source": [
        "# Use a DPF server without a LicenseContextManager\r\n\r\nInitialize a DPF server without using a LicenseContextManager.\r\n\r\n**Note**: When `use_license_context=False`, the license is checked out\r\neach time you use a DPF Sound operator.\r\n"
      ]
    },
    {
      "cell_type": "code",
      "execution_count": null,
      "metadata": {
        "collapsed": false
      },
      "outputs": [],
      "source": [
        "# Connect to a remote server or start a local server without using a LicenseContextManager\nprint(\"Connecting to the server without using a LicenseContextManager\")\nmy_server = connect_to_or_start_server(use_license_context=False)\n\n# Check if you are using a local or remote server\nhas_local_server = dpf.server.has_local_server()\nprint(f\"Local server: {has_local_server}\")\n\n# If using a local server, display the path to the server\nif has_local_server == True:\n    print(f\"Local server path (server variable): {my_server.ansys_path}\")"
      ]
    },
    {
      "cell_type": "markdown",
      "metadata": {},
      "source": [
        "Display information about the server that you are using.\r\n"
      ]
    },
    {
      "cell_type": "code",
      "execution_count": null,
      "metadata": {
        "collapsed": false
      },
      "outputs": [],
      "source": [
        "print(f\"Server information: {my_server.info}\")"
      ]
    },
    {
      "cell_type": "markdown",
      "metadata": {},
      "source": [
        "Execute the PyAnsys Sound `LoadWav` operator several times in a row and\r\nmeasure the execution time.\r\n"
      ]
    },
    {
      "cell_type": "code",
      "execution_count": null,
      "metadata": {
        "collapsed": false
      },
      "outputs": [],
      "source": [
        "path_flute_wav = download_flute_wav()\n\nfor i in range(5):\n    now = datetime.datetime.now()\n    wav_loader = LoadWav(path_flute_wav)\n    wav_loader.process()\n    fc_signal = wav_loader.get_output()\n    later = datetime.datetime.now()\n    execution_time = later - now\n    print(\n        f\"Elapsed time (loop {i+1}): \"\n        f\"{execution_time.seconds + execution_time.microseconds/1e6}\"\n        f\" seconds\"\n    )"
      ]
    },
    {
      "cell_type": "markdown",
      "metadata": {},
      "source": [
        "Disconnect (shut down) the server and release the license increment.\r\n"
      ]
    },
    {
      "cell_type": "code",
      "execution_count": null,
      "metadata": {
        "collapsed": false
      },
      "outputs": [],
      "source": [
        "print(\"Disconnecting from the server and releasing the license increment.\")\nmy_server = None"
      ]
    },
    {
      "cell_type": "markdown",
      "metadata": {},
      "source": [
        "# Use a DPF server with a LicenseContextManager\r\n\r\nInitialize a DPF server using a LicenseContextManager and execute the\r\nsame code as run previously.\r\n\r\n**Note**: The LicenseContextManager is a mechanism that checks out a\r\nlicense increment when entering the context and releases it when exiting\r\nthe context.\r\n"
      ]
    },
    {
      "cell_type": "code",
      "execution_count": null,
      "metadata": {
        "collapsed": false
      },
      "outputs": [],
      "source": [
        "# Connect to a remote server or start a local server using a LicenseContextManager\nprint(\"Connecting to the server using a LicenseContextManager\")\nmy_server = connect_to_or_start_server(use_license_context=True)\n\n# Execute the same and measure the execution time\nfor i in range(5):\n    now = datetime.datetime.now()\n    wav_loader = LoadWav(path_flute_wav)\n    wav_loader.process()\n    fc_signal = wav_loader.get_output()\n    later = datetime.datetime.now()\n    execution_time = later - now\n    print(\n        f\"Elapsed time (loop {i+1}): \"\n        f\"{execution_time.seconds + execution_time.microseconds / 1e6}\"\n        f\" seconds\"\n    )"
      ]
    },
    {
      "cell_type": "markdown",
      "metadata": {},
      "source": [
        "You can see that the execution time is much faster when you use a\r\nLicenseContextManager. This is because when a LicenseContactManager is\r\nnot used, the license is checked out each time you use a DPF Sound\r\noperator.\r\n"
      ]
    }
  ],
  "metadata": {
    "kernelspec": {
      "display_name": "Python 3",
      "language": "python",
      "name": "python3"
    },
    "language_info": {
      "codemirror_mode": {
        "name": "ipython",
        "version": 3
      },
      "file_extension": ".py",
      "mimetype": "text/x-python",
      "name": "python",
      "nbconvert_exporter": "python",
      "pygments_lexer": "ipython3",
      "version": "3.12.3"
    }
  },
  "nbformat": 4,
  "nbformat_minor": 0
}