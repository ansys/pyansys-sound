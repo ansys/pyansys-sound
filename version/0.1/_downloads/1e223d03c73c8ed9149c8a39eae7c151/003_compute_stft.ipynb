{
  "cells": [
    {
      "cell_type": "markdown",
      "metadata": {},
      "source": [
        "# Compute the STFT and ISTFT {#compute_stft_example}\r\n\r\nThis example shows how to compute the short-time Fourier transform\r\n(STFT) of a signal. It also shows how to compute the inverse short-time\r\nFourier transform (ISTFT) from a STFT matrix and get a signal.\r\n"
      ]
    },
    {
      "cell_type": "markdown",
      "metadata": {},
      "source": [
        "# Set up analysis\r\n\r\nSetting up the analysis consists of loading Ansys libraries, connecting\r\nto the DPF server, and retrieving the example files.\r\n"
      ]
    },
    {
      "cell_type": "code",
      "execution_count": null,
      "metadata": {
        "collapsed": false
      },
      "outputs": [],
      "source": [
        "# Load Ansys libraries.\nfrom ansys.sound.core.examples_helpers import download_flute_wav\nfrom ansys.sound.core.server_helpers import connect_to_or_start_server\nfrom ansys.sound.core.signal_utilities import LoadWav\nfrom ansys.sound.core.spectrogram_processing import Istft, Stft\n\n# Connect to a remote server or start a local server\nmy_server = connect_to_or_start_server(use_license_context=True)"
      ]
    },
    {
      "cell_type": "markdown",
      "metadata": {},
      "source": [
        "# Load a signal\r\n\r\nLoad a signal from a WAV file using the `LoadWav` class. It is returned\r\nas a DPF field container. For more information, see\r\n[fields_container](https://dpf.docs.pyansys.com/version/stable/api/ansys.dpf.core.operators.utility.fields_container.html)\r\nin the DPF-Core API documentation.\r\n"
      ]
    },
    {
      "cell_type": "code",
      "execution_count": null,
      "metadata": {
        "collapsed": false
      },
      "outputs": [],
      "source": [
        "# Return the input data of the example file\npath_flute_wav = download_flute_wav()\n\n# Load the WAV file\nwav_loader = LoadWav(path_flute_wav)\nwav_loader.process()\nfc_signal = wav_loader.get_output()\n\n# Plot the input signal\nwav_loader.plot()"
      ]
    },
    {
      "cell_type": "markdown",
      "metadata": {},
      "source": [
        "# Compute and plot STFT\r\n"
      ]
    },
    {
      "cell_type": "code",
      "execution_count": null,
      "metadata": {
        "collapsed": false
      },
      "outputs": [],
      "source": [
        "# Instantiate an instance of the ``Stft`` class using the previously loaded signal\n# as an input. Use an FFT size of 1024 points and then display the STFT colormap.\n\nstft = Stft(fc_signal, fft_size=1024)\n\n# Process the STFT\nstft.process()\n\n# Plot the output\nstft.plot()"
      ]
    },
    {
      "cell_type": "markdown",
      "metadata": {},
      "source": [
        "Modify the STFT parameters using the setters of the `Stft` class.\r\nDisplay the new STFT colormap.\r\n"
      ]
    },
    {
      "cell_type": "code",
      "execution_count": null,
      "metadata": {
        "collapsed": false
      },
      "outputs": [],
      "source": [
        "stft.fft_size = 4096\nstft.window_overlap = 0.95\nstft.window_type = \"BARTLETT\"\n\n# Reprocess the STFT with the new parameters\nstft.process()\n\n# Plot the modified output\nstft.plot()"
      ]
    },
    {
      "cell_type": "markdown",
      "metadata": {},
      "source": [
        "Compute and plot ISTFT \\~\\~\\~\\~\\~\\~\\~\\~\\~\\~\\~\\~\\~\\~\\~\\~\\~\\~\\~\\~\\~\r\n"
      ]
    },
    {
      "cell_type": "code",
      "execution_count": null,
      "metadata": {
        "collapsed": false
      },
      "outputs": [],
      "source": [
        "# Obtain a time-domain signal using the ``Istft`` class.\n# The input of the ``Istft`` class is the output STFT object previously computed.\n\nfc_stft = stft.get_output()\n\n# Instantiate the class\nistft = Istft(fc_stft)\n\n# Process the ISTFT\nistft.process()"
      ]
    },
    {
      "cell_type": "markdown",
      "metadata": {},
      "source": [
        "Plot the output, which is the original signal.\r\n"
      ]
    },
    {
      "cell_type": "code",
      "execution_count": null,
      "metadata": {
        "collapsed": false
      },
      "outputs": [],
      "source": [
        "istft.plot()"
      ]
    }
  ],
  "metadata": {
    "kernelspec": {
      "display_name": "Python 3",
      "language": "python",
      "name": "python3"
    },
    "language_info": {
      "codemirror_mode": {
        "name": "ipython",
        "version": 3
      },
      "file_extension": ".py",
      "mimetype": "text/x-python",
      "name": "python",
      "nbconvert_exporter": "python",
      "pygments_lexer": "ipython3",
      "version": "3.12.3"
    }
  },
  "nbformat": 4,
  "nbformat_minor": 0
}