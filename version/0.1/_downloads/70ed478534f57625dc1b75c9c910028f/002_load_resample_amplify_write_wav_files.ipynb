{
  "cells": [
    {
      "cell_type": "markdown",
      "metadata": {},
      "source": [
        "# Load a signal from a WAV file {#load_resample_amplify_write_wav_files_example}\r\n\r\nThis example shows how to load a signal from a WAV file, modify the\r\nsignal\\'s sampling frequency, and amplify it. It also shows how to\r\naccess the corresponding data, display it using Matplotlib, and then\r\nwrite the modified signal to the disk as a new WAV file.\r\n"
      ]
    },
    {
      "cell_type": "markdown",
      "metadata": {},
      "source": [
        "# Set up analysis\r\n\r\nSetting up the analysis consists of loading Ansys libraries, connecting\r\nto the DPF server, and retrieving the example files.\r\n"
      ]
    },
    {
      "cell_type": "code",
      "execution_count": null,
      "metadata": {
        "collapsed": false
      },
      "outputs": [],
      "source": [
        "# Load Ansys and other libraries.\nimport matplotlib.pyplot as plt\n\nfrom ansys.sound.core.examples_helpers import download_flute_wav\nfrom ansys.sound.core.server_helpers import connect_to_or_start_server\nfrom ansys.sound.core.signal_utilities import ApplyGain, LoadWav, Resample, WriteWav\n\n# Connect to a remote server or start a local server\nserver = connect_to_or_start_server()"
      ]
    },
    {
      "cell_type": "markdown",
      "metadata": {},
      "source": [
        "# Load a signal\r\n\r\nLoad a signal from a WAV file using the `LoadWav` class. It is returned\r\nas a DPF fields container. For more information, see\r\n[fields_container](https://dpf.docs.pyansys.com/version/stable/api/ansys.dpf.core.operators.utility.fields_container.html)\r\nin the DPF-Core API documentation.\r\n"
      ]
    },
    {
      "cell_type": "code",
      "execution_count": null,
      "metadata": {
        "collapsed": false
      },
      "outputs": [],
      "source": [
        "# Return the input data of the example file\npath_flute_wav = download_flute_wav()\n\n# Load the WAV file.\nwav_loader = LoadWav(path_flute_wav)\nwav_loader.process()\nfc_signal_original = wav_loader.get_output()\n\nt1 = fc_signal_original[0].time_freq_support.time_frequencies.data\nsf1 = 1.0 / (t1[1] - t1[0])\nprint(f\"The sampling frequency of the original signal is {int(sf1)} Hz.\")"
      ]
    },
    {
      "cell_type": "markdown",
      "metadata": {},
      "source": [
        "# Resample the signal\r\n\r\nChange the sampling frequency of the loaded signal.\r\n"
      ]
    },
    {
      "cell_type": "code",
      "execution_count": null,
      "metadata": {
        "collapsed": false
      },
      "outputs": [],
      "source": [
        "resampler = Resample(fc_signal_original, new_sampling_frequency=20000.0)\nresampler.process()\nfc_signal_resampled = resampler.get_output()\n\nt2 = fc_signal_resampled[0].time_freq_support.time_frequencies.data\nsf2 = 1.0 / (t2[1] - t2[0])\nprint(f\"The new sampling frequency of the signal is {int(sf2)} Hz.\")"
      ]
    },
    {
      "cell_type": "markdown",
      "metadata": {},
      "source": [
        "# Apply a gain to the signal\r\n\r\nAmplify the resampled signal by 10 decibels.\r\n"
      ]
    },
    {
      "cell_type": "code",
      "execution_count": null,
      "metadata": {
        "collapsed": false
      },
      "outputs": [],
      "source": [
        "gain = 10.0\ngain_applier = ApplyGain(fc_signal_resampled, gain=gain, gain_in_db=True)\ngain_applier.process()\nfc_signal_modified = gain_applier.get_output()"
      ]
    },
    {
      "cell_type": "markdown",
      "metadata": {},
      "source": [
        "# Plot signals\r\n\r\nPlot both the original signal and modified signal.\r\n"
      ]
    },
    {
      "cell_type": "code",
      "execution_count": null,
      "metadata": {
        "collapsed": false
      },
      "outputs": [],
      "source": [
        "# Get the signals as nparray\ndata_original = wav_loader.get_output_as_nparray()\ndata_modified = gain_applier.get_output_as_nparray()\n\n# Prepare the figure\nfig, axs = plt.subplots(2)\nfig.suptitle(\"Signals\")\n\naxs[0].plot(t1, data_original, color=\"g\", label=f\"original signal, sf={int(sf1)} Hz\")\naxs[0].set_ylabel(\"Pa\")\naxs[0].legend(loc=\"upper right\")\naxs[0].set_ylim([-3, 3])\n\naxs[1].plot(\n    t2, data_modified, color=\"r\", label=f\"modified signal, sf={int(sf2)} Hz, gain={gain} dBSPL\"\n)\naxs[1].set_xlabel(\"Time(s)\")\naxs[1].set_ylabel(\"Amplitude(Pa)\")\naxs[1].legend(loc=\"upper right\")\naxs[1].set_ylim([-3, 3])\n\n# Display the figure\nplt.show()"
      ]
    },
    {
      "cell_type": "markdown",
      "metadata": {},
      "source": [
        "# Write the signal as a WAV file\r\n\r\nWrite the modified signal to the disk as a WAV file.\r\n"
      ]
    },
    {
      "cell_type": "code",
      "execution_count": null,
      "metadata": {
        "collapsed": false
      },
      "outputs": [],
      "source": [
        "output_path = path_flute_wav[:-4] + \"_modified.wav\"  # \"[-4]\" is to remove the \".wav\" extension\nwav_writer = WriteWav(path_to_write=output_path, signal=fc_signal_modified, bit_depth=\"int16\")\nwav_writer.process()"
      ]
    }
  ],
  "metadata": {
    "kernelspec": {
      "display_name": "Python 3",
      "language": "python",
      "name": "python3"
    },
    "language_info": {
      "codemirror_mode": {
        "name": "ipython",
        "version": 3
      },
      "file_extension": ".py",
      "mimetype": "text/x-python",
      "name": "python",
      "nbconvert_exporter": "python",
      "pygments_lexer": "ipython3",
      "version": "3.12.3"
    }
  },
  "nbformat": 4,
  "nbformat_minor": 0
}