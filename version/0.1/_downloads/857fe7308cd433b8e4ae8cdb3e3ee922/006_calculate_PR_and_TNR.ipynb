{
  "cells": [
    {
      "cell_type": "markdown",
      "metadata": {},
      "source": [
        "# Calculate TNR and PR {#calculate_PR_and_TNR}\r\n\r\nThis example shows how to calculate tone-to-noise ratio (TNR) and\r\nprominence ratio (PR) following the ECMA 418-1 and ISO 7779 standards.\r\nIt also extracts the desired TNR and PR information.\r\n"
      ]
    },
    {
      "cell_type": "markdown",
      "metadata": {},
      "source": [
        "# Set up analysis\r\n\r\nSetting up the analysis consists of loading Ansys libraries, connecting\r\nto the DPF server, and retrieving the example files.\r\n"
      ]
    },
    {
      "cell_type": "code",
      "execution_count": null,
      "metadata": {
        "collapsed": false
      },
      "outputs": [],
      "source": [
        "# Load Ansys libraries.\nfrom ansys.dpf.core import TimeFreqSupport, fields_factory, locations\nimport numpy as np\n\nfrom ansys.sound.core.examples_helpers import download_flute_psd, download_flute_wav\nfrom ansys.sound.core.psychoacoustics import ProminenceRatio, ToneToNoiseRatio\nfrom ansys.sound.core.server_helpers import connect_to_or_start_server\nfrom ansys.sound.core.signal_utilities import LoadWav\nfrom ansys.sound.core.spectral_processing import PowerSpectralDensity\n\n# Connect to a remote server or start a local server.\nserver = connect_to_or_start_server()"
      ]
    },
    {
      "cell_type": "markdown",
      "metadata": {},
      "source": [
        "# Calculate TNR from a PSD\r\n\r\nLoad a power spectral density (PSD) stored as a text file and then use\r\nit to create a field that serves as an input for the TNR calculation.\r\n"
      ]
    },
    {
      "cell_type": "code",
      "execution_count": null,
      "metadata": {
        "collapsed": false
      },
      "outputs": [],
      "source": [
        "# Load the PSD contained in an ASCII file. This file has two columns: 'Frequency (Hz)'\n# and 'PSD amplitude (dB SPL/Hz)'. The data is located in\n# \"C:\\Users\\username\\AppData\\Local\\Ansys\\ansys_sound_core\\examples\\\".\npath_flute_psd = download_flute_psd()\nfid = open(path_flute_psd)\nfid.readline()  # Skip the first line (header)\nall_lines = fid.readlines()\nfid.close()\n\n# Create the array of PSD amplitude values.\npsd_dBSPL_per_Hz = []\nfrequencies_original = []\nfor line in all_lines:\n    splitted_line = line.split()\n    psd_dBSPL_per_Hz.append(float(splitted_line[1]))\n    frequencies_original.append(float(splitted_line[0]))\n\n# Convert amplitudes in dBSPL/Hz into power in Pa^2/Hz.\npsd_dBSPL_per_Hz = np.array(psd_dBSPL_per_Hz)\npsd_Pa2_per_Hz = np.power(10, psd_dBSPL_per_Hz / 10) * 4e-10\n\n# The TNR/PR operators require the frequency array to be regularly spaced.\n# Thus, the original frequencies are interpolated to regularly spaced points.\nfrequencies_interp = np.linspace(0, 22050, len(frequencies_original))\npsd_Pa2_per_Hz_interp = np.interp(frequencies_interp, frequencies_original, psd_Pa2_per_Hz)\n\n# Create the input PSD field for computation of TNR and PR.\nf_psd = fields_factory.create_scalar_field(num_entities=1, location=locations.time_freq)\nf_psd.append(psd_Pa2_per_Hz_interp, 1)\n\n# Create and include a field containing the array of frequencies.\nsupport = TimeFreqSupport()\nf_frequencies = fields_factory.create_scalar_field(num_entities=1, location=locations.time_freq)\nf_frequencies.append(frequencies_interp, 1)\nsupport.time_frequencies = f_frequencies\nf_psd.time_freq_support = support"
      ]
    },
    {
      "cell_type": "markdown",
      "metadata": {},
      "source": [
        "Create a `ToneToNoiseRatio` object, set the created PSD field as input,\r\nand compute the TNR.\r\n"
      ]
    },
    {
      "cell_type": "code",
      "execution_count": null,
      "metadata": {
        "collapsed": false
      },
      "outputs": [],
      "source": [
        "tone_to_noise_ratio = ToneToNoiseRatio(psd=f_psd)\ntone_to_noise_ratio.process()"
      ]
    },
    {
      "cell_type": "markdown",
      "metadata": {},
      "source": [
        "Print results.\r\n"
      ]
    },
    {
      "cell_type": "code",
      "execution_count": null,
      "metadata": {
        "collapsed": false
      },
      "outputs": [],
      "source": [
        "number_tones = tone_to_noise_ratio.get_nb_tones()\nTNR = tone_to_noise_ratio.get_max_TNR_value()\nTNR_frequencies = tone_to_noise_ratio.get_peaks_frequencies()\nTNR_values = tone_to_noise_ratio.get_TNR_values()\nTNR_levels = tone_to_noise_ratio.get_peaks_levels()\n\nprint(\n    f\"\\n\"\n    f\"Number of tones found: {number_tones}\\n\"\n    f\"Maximum TNR value: {np.round(TNR, 1)} dB\\n\"\n    f\"All detected peaks' frequencies (Hz): \"\n    f\"{np.round(TNR_frequencies)}\\n\"\n    f\"All peaks' TNR values (dB): {np.round(TNR_values, 1)}\\n\"\n    f\"All peaks' absolute levels (dB SPL): {np.round(TNR_levels, 1)}\\n\"\n)"
      ]
    },
    {
      "cell_type": "markdown",
      "metadata": {},
      "source": [
        "Plot the TNR over frequency.\r\n"
      ]
    },
    {
      "cell_type": "code",
      "execution_count": null,
      "metadata": {
        "collapsed": false
      },
      "outputs": [],
      "source": [
        "tone_to_noise_ratio.plot()"
      ]
    },
    {
      "cell_type": "markdown",
      "metadata": {},
      "source": [
        "Recalculate the TNR for specific frequencies.\r\n"
      ]
    },
    {
      "cell_type": "code",
      "execution_count": null,
      "metadata": {
        "collapsed": false
      },
      "outputs": [],
      "source": [
        "frequencies_i = [261, 525, 786, 1836]\ntone_to_noise_ratio = ToneToNoiseRatio(psd=f_psd, frequency_list=frequencies_i)\ntone_to_noise_ratio.process()"
      ]
    },
    {
      "cell_type": "markdown",
      "metadata": {},
      "source": [
        "Print information for a specific detected peak.\r\n"
      ]
    },
    {
      "cell_type": "code",
      "execution_count": null,
      "metadata": {
        "collapsed": false
      },
      "outputs": [],
      "source": [
        "tone_to_noise_ratio_525 = tone_to_noise_ratio.get_single_tone_info(tone_index=1)\nTNR_frequency = tone_to_noise_ratio_525[0]\nTNR_width = tone_to_noise_ratio_525[4] - tone_to_noise_ratio_525[3]\nTNR = tone_to_noise_ratio_525[1]\nprint(\n    f\"\\n\"\n    f\"TNR info for peak at ~525 Hz: \\n\"\n    f\"Exact tone frequency: {round(TNR_frequency, 2)} Hz\\n\"\n    f\"Tone width: {round(TNR_width, 2)} Hz\\n\"\n    f\"TNR value: {round(TNR, 2)} dB\\n\\n\"\n)"
      ]
    },
    {
      "cell_type": "markdown",
      "metadata": {},
      "source": [
        "# Calculate PR from a PSD\r\n\r\nUse the PowerSpectralDensity class to calculate a PSD, and compute\r\nProminence Ratio (PR).\r\n"
      ]
    },
    {
      "cell_type": "code",
      "execution_count": null,
      "metadata": {
        "collapsed": false
      },
      "outputs": [],
      "source": [
        "# Load example data from WAV file.\npath_flute_wav = download_flute_wav()\nwav_loader = LoadWav(path_flute_wav)\nwav_loader.process()\nflute_signal = wav_loader.get_output()[0]"
      ]
    },
    {
      "cell_type": "markdown",
      "metadata": {},
      "source": [
        "Create a PowerSpectralDensity object, set its input signal and\r\nparameters, and compute the PSD.\r\n"
      ]
    },
    {
      "cell_type": "code",
      "execution_count": null,
      "metadata": {
        "collapsed": false
      },
      "outputs": [],
      "source": [
        "psd_object = PowerSpectralDensity(\n    flute_signal, fft_size=8192, window_type=\"HANN\", window_length=8192, overlap=0.8\n)\npsd_object.process()"
      ]
    },
    {
      "cell_type": "markdown",
      "metadata": {},
      "source": [
        "Get the computed PSD as a Field.\r\n"
      ]
    },
    {
      "cell_type": "code",
      "execution_count": null,
      "metadata": {
        "collapsed": false
      },
      "outputs": [],
      "source": [
        "f_psd = psd_object.get_output()"
      ]
    },
    {
      "cell_type": "markdown",
      "metadata": {},
      "source": [
        "Create a ProminenceRatio object, set the computed PSD as input, and\r\ncompute the PR.\r\n"
      ]
    },
    {
      "cell_type": "code",
      "execution_count": null,
      "metadata": {
        "collapsed": false
      },
      "outputs": [],
      "source": [
        "prominence_ratio = ProminenceRatio(psd=f_psd)\nprominence_ratio.process()"
      ]
    },
    {
      "cell_type": "markdown",
      "metadata": {},
      "source": [
        "Print the results.\r\n"
      ]
    },
    {
      "cell_type": "code",
      "execution_count": null,
      "metadata": {
        "collapsed": false
      },
      "outputs": [],
      "source": [
        "number_tones = prominence_ratio.get_nb_tones()\nPR = prominence_ratio.get_max_PR_value()\nPR_frequencies = prominence_ratio.get_peaks_frequencies()\nPR_values = prominence_ratio.get_PR_values()\nPR_levels = prominence_ratio.get_peaks_levels()\nprint(\n    f\"\\n\"\n    f\"Number of tones found: {number_tones}\\n\"\n    f\"Maximum PR value: {np.round(PR, 1)} dB\\n\"\n    f\"All detected peaks' frequencies (Hz): {np.round(PR_frequencies)}\\n\"\n    f\"All peaks' PR values (dB): {np.round(PR_values, 1)}\\n\"\n    f\"All peaks' absolute levels (dB SPL): {np.round(PR_levels, 1)}\\n\"\n)"
      ]
    },
    {
      "cell_type": "markdown",
      "metadata": {},
      "source": [
        "Plot the PR as a function of frequency.\r\n"
      ]
    },
    {
      "cell_type": "code",
      "execution_count": null,
      "metadata": {
        "collapsed": false
      },
      "outputs": [],
      "source": [
        "prominence_ratio.plot()"
      ]
    },
    {
      "cell_type": "markdown",
      "metadata": {},
      "source": [
        "Recalculate the PR for specific frequencies.\r\n"
      ]
    },
    {
      "cell_type": "code",
      "execution_count": null,
      "metadata": {
        "collapsed": false
      },
      "outputs": [],
      "source": [
        "frequencies_i = [261, 525, 786, 1836]\nprominence_ratio = ProminenceRatio(psd=f_psd, frequency_list=frequencies_i)\nprominence_ratio.process()"
      ]
    },
    {
      "cell_type": "markdown",
      "metadata": {},
      "source": [
        "Print information for a specific detected peak.\r\n"
      ]
    },
    {
      "cell_type": "code",
      "execution_count": null,
      "metadata": {
        "collapsed": false
      },
      "outputs": [],
      "source": [
        "prominence_ratio_786 = prominence_ratio.get_single_tone_info(tone_index=2)\nPR_frequency = prominence_ratio_786[0]\nPR_width = prominence_ratio_786[4] - prominence_ratio_786[3]\nPR = prominence_ratio_786[1]\nprint(\n    f\"\\n\"\n    f\"PR info for peak at ~786 Hz: \\n\"\n    f\"Exact tone frequency: {round(PR_frequency, 2)} Hz\\n\"\n    f\"Tone width: {round(PR_width, 2)} Hz\\n\"\n    f\"PR value: {round(PR, 2)} dB\\n\"\n)"
      ]
    }
  ],
  "metadata": {
    "kernelspec": {
      "display_name": "Python 3",
      "language": "python",
      "name": "python3"
    },
    "language_info": {
      "codemirror_mode": {
        "name": "ipython",
        "version": 3
      },
      "file_extension": ".py",
      "mimetype": "text/x-python",
      "name": "python",
      "nbconvert_exporter": "python",
      "pygments_lexer": "ipython3",
      "version": "3.12.3"
    }
  },
  "nbformat": 4,
  "nbformat_minor": 0
}