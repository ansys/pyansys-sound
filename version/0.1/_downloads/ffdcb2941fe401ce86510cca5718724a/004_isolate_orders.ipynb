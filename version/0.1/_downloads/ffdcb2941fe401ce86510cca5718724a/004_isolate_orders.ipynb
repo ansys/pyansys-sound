{
  "cells": [
    {
      "cell_type": "markdown",
      "metadata": {},
      "source": [
        "# Isolate orders {#isolate_orders_example}\r\n\r\nOrders are harmonic and partial components in the sound related to the\r\nspeed of a rotating machine. This example shows how to isolate orders in\r\na signal containing an RPM profile. It also uses additional classes from\r\nPyAnsys Sound to compute spectrograms and the loudness of the isolated\r\nsignals.\r\n"
      ]
    },
    {
      "cell_type": "code",
      "execution_count": null,
      "metadata": {
        "collapsed": false
      },
      "outputs": [],
      "source": [
        "# Maximum frequency for STFT plots, change according to your need\nMAX_FREQUENCY_PLOT_STFT = 2000.0"
      ]
    },
    {
      "cell_type": "markdown",
      "metadata": {},
      "source": [
        "# Set up analysis\r\n\r\nSetting up the analysis consists of loading Ansys libraries, connecting\r\nto the DPF server, and retrieving the example files.\r\n"
      ]
    },
    {
      "cell_type": "code",
      "execution_count": null,
      "metadata": {
        "collapsed": false
      },
      "outputs": [],
      "source": [
        "# Load Ansys libraries.\nimport os\nimport pathlib\n\nimport matplotlib.pyplot as plt\nimport numpy as np\n\nfrom ansys.sound.core.examples_helpers import (\n    download_accel_with_rpm_2_wav,\n    download_accel_with_rpm_3_wav,\n    download_accel_with_rpm_wav,\n)\nfrom ansys.sound.core.psychoacoustics import LoudnessISO532_1_Stationary\nfrom ansys.sound.core.server_helpers import connect_to_or_start_server\nfrom ansys.sound.core.signal_utilities import LoadWav, WriteWav\nfrom ansys.sound.core.spectrogram_processing import IsolateOrders, Stft\n\n# Connect to a remote or start a local server\nmy_server = connect_to_or_start_server()"
      ]
    },
    {
      "cell_type": "markdown",
      "metadata": {},
      "source": [
        "# Define a custom function for STFT plots\r\n\r\nDefining a custom function for STFT plots lets you have more control\r\nover what you are displaying. While you could use the `Stft.plot()`\r\nmethod, the custom function defined here restricts the frequency range\r\nof the plot.\r\n"
      ]
    },
    {
      "cell_type": "code",
      "execution_count": null,
      "metadata": {
        "collapsed": false
      },
      "outputs": [],
      "source": [
        "def plot_stft(stft_class, vmax):\n    out = stft_class.get_output_as_nparray()\n\n    # Extract first half of the STFT (second half is symmetrical)\n    half_nfft = int(out.shape[0] / 2) + 1\n    magnitude = stft_class.get_stft_magnitude_as_nparray()\n\n    # Voluntarily ignore a numpy warning\n    np.seterr(divide=\"ignore\")\n    magnitude = 20 * np.log10(magnitude[0:half_nfft, :])\n    np.seterr(divide=\"warn\")\n\n    # Obtain sampling frequency, time steps, and number of time samples\n    fs = 1.0 / (\n        stft_class.signal.time_freq_support.time_frequencies.data[1]\n        - stft_class.signal.time_freq_support.time_frequencies.data[0]\n    )\n    time_step = np.floor(stft_class.fft_size * (1.0 - stft_class.window_overlap) + 0.5) / fs\n    num_time_index = len(stft_class.get_output().get_available_ids_for_label(\"time\"))\n\n    # Define boundaries of the plot\n    extent = [0, time_step * num_time_index, 0.0, fs / 2.0]\n\n    # Plot\n    plt.imshow(\n        magnitude,\n        origin=\"lower\",\n        aspect=\"auto\",\n        cmap=\"jet\",\n        extent=extent,\n        vmin=vmax - 70.0,\n        vmax=vmax,\n    )\n    plt.colorbar(label=\"Amplitude (dB SPL)\")\n    plt.ylabel(\"Frequency (Hz)\")\n    plt.xlabel(\"Time (s)\")\n    plt.ylim(\n        [0.0, MAX_FREQUENCY_PLOT_STFT]\n    )  # Change the value of MAX_FREQUENCY_PLOT_STFT if needed\n    plt.title(\"STFT\")\n    plt.show()"
      ]
    },
    {
      "cell_type": "markdown",
      "metadata": {},
      "source": [
        "# Load a signal with an RPM profile\r\n\r\nLoad a signal that has been generated with Ansys Sound Analysis and\r\nSpecification (SAS) from a WAV file using the `LoadWav` class. This\r\nclass contains two channels:\r\n\r\n-   The actual signal (an acceleration recording)\r\n-   The associated RPM profile\r\n"
      ]
    },
    {
      "cell_type": "code",
      "execution_count": null,
      "metadata": {
        "collapsed": false
      },
      "outputs": [],
      "source": [
        "# Return the input data of the example file\npath_accel_wav = download_accel_with_rpm_wav()\n\n# Load the WAV file.\nwav_loader = LoadWav(path_accel_wav)\nwav_loader.process()\nfc_signal = wav_loader.get_output()\n\n# Extract the audio signal and the RPM profile\nwav_signal, rpm_signal = wav_loader.get_output_as_nparray()\n\n# Extract time support associated with the signal\ntime_support = fc_signal[0].time_freq_support.time_frequencies.data\n\n# Plot the signal and its associated RPM profile\nfig, ax = plt.subplots(nrows=2, sharex=True)\nax[0].plot(time_support, wav_signal)\nax[0].set_title(\"Audio Signal\")\nax[0].set_ylabel(\"Amplitude (Pa)\")\nax[0].grid(True)\nax[1].plot(time_support, rpm_signal, color=\"red\")\nax[1].set_title(\"RPM profile\")\nax[1].set_ylabel(\"rpm\")\nax[1].grid(True)\nplt.xlabel(\"Time (s)\")\nplt.show()"
      ]
    },
    {
      "cell_type": "markdown",
      "metadata": {},
      "source": [
        "# Plot spectrogram of the original signal\r\n\r\nPlot the spectrogram of the original signal.\r\n"
      ]
    },
    {
      "cell_type": "code",
      "execution_count": null,
      "metadata": {
        "collapsed": false
      },
      "outputs": [],
      "source": [
        "stft = Stft(signal=fc_signal[0], window_overlap=0.9, fft_size=8192)\nstft.process()\nmax_stft = 20 * np.log10(np.max(stft.get_stft_magnitude_as_nparray()))\nplot_stft(stft, max_stft)"
      ]
    },
    {
      "cell_type": "markdown",
      "metadata": {},
      "source": [
        "# Isolate orders\r\n\r\nIsolate orders 2, 4, and 6 with the `IsolateOrders` class.\r\n"
      ]
    },
    {
      "cell_type": "code",
      "execution_count": null,
      "metadata": {
        "collapsed": false
      },
      "outputs": [],
      "source": [
        "field_wav, field_rpm = wav_loader.get_output()\n\n# Define parameters for order isolation\nfield_wav.unit = \"Pa\"\norder_to_isolate = [2, 4, 6]  # Orders indexes to isolate as a list\nfft_size = 8192  # FFT Size (in samples)\nwindow_type = \"HANN\"  # Window type\nwindow_overlap = 0.9  # Window overlap\nwidth_selection = 3  # Width of the order selection in Hz\n\n# Instantiate the ``IsolateOrders`` class with the parameters\nisolate_orders = IsolateOrders(\n    signal=field_wav,\n    rpm_profile=field_rpm,\n    orders=order_to_isolate,\n    fft_size=fft_size,\n    window_type=window_type,\n    window_overlap=window_overlap,\n    width_selection=width_selection,\n)\n\n# Isolate orders\nisolate_orders.process()\n\n# Plot the spectrogram of the isolated orders\nstft.signal = isolate_orders.get_output()\nstft.process()\nplot_stft(stft, max_stft)"
      ]
    },
    {
      "cell_type": "markdown",
      "metadata": {},
      "source": [
        "# Isolate different orders\r\n\r\nChange FFT size, order indexes, and window type. Then re-isolate the\r\norders.\r\n"
      ]
    },
    {
      "cell_type": "code",
      "execution_count": null,
      "metadata": {
        "collapsed": false
      },
      "outputs": [],
      "source": [
        "# Change some parameters directly using the setters of the class\nisolate_orders.orders = [2, 6]\nisolate_orders.window_type = \"BLACKMAN\"\n\n# Reprocess (Must be called explicitly. Otherwise, the output won't be updated.)\nisolate_orders.process()\n\n\n# Plot the spectrogram of the isolated orders\nstft.signal = isolate_orders.get_output()\nstft.process()\nplot_stft(stft, max_stft)"
      ]
    },
    {
      "cell_type": "markdown",
      "metadata": {},
      "source": [
        "# Work with the isolated signal\r\n\r\nPlot the signal containing the isolated orders and compute its loudness.\r\n"
      ]
    },
    {
      "cell_type": "code",
      "execution_count": null,
      "metadata": {
        "collapsed": false
      },
      "outputs": [],
      "source": [
        "# Plot the signal directly using the method from the ``IsolateOrders`` class\nisolate_orders.plot()\n\n# Use the ``Loudness`` class to compute the loudness of the isolate signal\ninput_loudness = isolate_orders.get_output()\ninput_loudness.unit = \"Pa\"\nloudness = LoudnessISO532_1_Stationary(signal=input_loudness)\nloudness.process()\n\nloudness_isolated_signal = loudness.get_loudness_level_phon()\n\n# Compute the loudness for the original signal\nloudness.signal = field_wav\nloudness.process()\n\nloudness_original_signal = loudness.get_loudness_level_phon()\n\nprint(f\"Loudness of the original signal is {loudness_original_signal: .1f} phons.\")\nprint(f\"Loudness of the isolated signal is {loudness_isolated_signal: .1f} phons.\")"
      ]
    },
    {
      "cell_type": "markdown",
      "metadata": {},
      "source": [
        "# Isolate orders of several signals in a loop\r\n\r\nLoop over a list of given signals and write them as a WAV file.\r\n"
      ]
    },
    {
      "cell_type": "code",
      "execution_count": null,
      "metadata": {
        "collapsed": false
      },
      "outputs": [],
      "source": [
        "# Obtain parent folder of the 'accel_with_rpm.wav' file\nparent_folder = pathlib.Path(path_accel_wav).parent.absolute()\n\npath_accel_wav_2 = download_accel_with_rpm_2_wav()\npath_accel_wav_3 = download_accel_with_rpm_3_wav()\npaths = (path_accel_wav, path_accel_wav_2, path_accel_wav_3)\n\nfft_sizes = [256, 2048, 4096]\n\nwav_writer = WriteWav()\n\n# Isolate orders for all the files containing RPM profiles in this folder\nfor file, fft_sz in zip(paths, fft_sizes):\n    # Loading the file\n    wav_loader.path_to_wav = file\n    wav_loader.process()\n\n    # Set parameters for order isolation\n    isolate_orders.signal = wav_loader.get_output()[0]\n    isolate_orders.rpm_profile = wav_loader.get_output()[1]\n    isolate_orders.fft_size = fft_sz\n    isolate_orders.process()\n\n    # Write as a WAV file on the disk\n    out_name = os.path.basename(file)[:-4] + \"_isolated_fft_size_\" + str(fft_sz) + \".wav\"\n    path_to_write = parent_folder / out_name\n    wav_writer.path_to_write = str(path_to_write)\n    wav_writer.signal = isolate_orders.get_output()\n    wav_writer.process()"
      ]
    }
  ],
  "metadata": {
    "kernelspec": {
      "display_name": "Python 3",
      "language": "python",
      "name": "python3"
    },
    "language_info": {
      "codemirror_mode": {
        "name": "ipython",
        "version": 3
      },
      "file_extension": ".py",
      "mimetype": "text/x-python",
      "name": "python",
      "nbconvert_exporter": "python",
      "pygments_lexer": "ipython3",
      "version": "3.12.3"
    }
  },
  "nbformat": 4,
  "nbformat_minor": 0
}