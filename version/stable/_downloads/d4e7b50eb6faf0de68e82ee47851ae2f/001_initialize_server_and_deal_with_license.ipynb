{
  "cells": [
    {
      "cell_type": "markdown",
      "metadata": {},
      "source": [
        "\n\n# Initialize PyAnsys Sound and check out the license\n\nThis example shows how to initialize PyDPF-Core, load DPF Sound, and check out the\nrequired Ansys license (``increment avrxp_snd_level1``) only once. It also shows\nhow to connect to the DPF server, verify where it is located, and get other useful\ninformation.\n\nThis example also demonstrates the use of the LicenseContextManager, a mechanism that lets you\ncheck out the license only once for the duration of the session, which greatly improves performance.\nIt shows the execution time of a simple DPF Sound operator when you do not use the\nLicenseContextManager versus when you do use it.\n\n**Prerequisites**\n\nEnsure that you have installed PyDPF-Core and DPF Sound according to procedures in\nthe PyDPF-Core documentation:\n\n- If you have installed the latest Ansys release, see [Install using pip](https://dpf.docs.pyansys.com/version/stable/getting_started/install.html#installation).\n- If you want to use the DPF standalone version, see [Install DPF Server](https://dpf.docs.pyansys.com/version/stable/getting_started/dpf_server.html#dpf-server).\n"
      ]
    },
    {
      "cell_type": "markdown",
      "metadata": {},
      "source": [
        "## Perform required imports\nPerform the required imports:\n\n"
      ]
    },
    {
      "cell_type": "code",
      "execution_count": null,
      "metadata": {
        "collapsed": false
      },
      "outputs": [],
      "source": [
        "# Load Ansys and other libraries.\nimport datetime\n\nfrom ansys.sound.core.examples_helpers import download_flute_wav\nfrom ansys.sound.core.server_helpers import connect_to_or_start_server\nfrom ansys.sound.core.signal_utilities import LoadWav"
      ]
    },
    {
      "cell_type": "markdown",
      "metadata": {},
      "source": [
        "## Use a DPF server without a LicenseContextManager\n\nInitialize a DPF server without using a LicenseContextManager.\n\n**Note**: When ``use_license_context=False``, the license is checked out each time\nyou use a DPF Sound operator.\n\n"
      ]
    },
    {
      "cell_type": "code",
      "execution_count": null,
      "metadata": {
        "collapsed": false
      },
      "outputs": [],
      "source": [
        "# Connect to a remote server or start a local server without using a LicenseContextManager\nprint(\"Connecting to the server without using a LicenseContextManager\")\nmy_server, my_license_context = connect_to_or_start_server(use_license_context=False)\n\n# Check if you are using a local or remote server\nis_server_local = not my_server.has_client()\nprint(f\"Local server: {is_server_local}\")\n\n# If using a local server, display the path to the server\nif is_server_local == True:\n    print(f\"Local server path (server variable): {my_server.ansys_path}\")"
      ]
    },
    {
      "cell_type": "markdown",
      "metadata": {},
      "source": [
        "Display information about the server that you are using.\n\n"
      ]
    },
    {
      "cell_type": "code",
      "execution_count": null,
      "metadata": {
        "collapsed": false
      },
      "outputs": [],
      "source": [
        "print(f\"Server information: {my_server.info}\")"
      ]
    },
    {
      "cell_type": "markdown",
      "metadata": {},
      "source": [
        "Execute the PyAnsys Sound ``LoadWav`` operator several times in a row\nand measure the execution time.\n\n"
      ]
    },
    {
      "cell_type": "code",
      "execution_count": null,
      "metadata": {
        "collapsed": false
      },
      "outputs": [],
      "source": [
        "path_flute_wav = download_flute_wav(server=my_server)\n\nfor i in range(5):\n    now = datetime.datetime.now()\n    wav_loader = LoadWav(path_flute_wav)\n    wav_loader.process()\n    fc_signal = wav_loader.get_output()\n    later = datetime.datetime.now()\n    execution_time = later - now\n    print(\n        f\"Elapsed time (loop {i+1}): \"\n        f\"{execution_time.seconds + execution_time.microseconds/1e6}\"\n        f\" seconds\"\n    )"
      ]
    },
    {
      "cell_type": "markdown",
      "metadata": {},
      "source": [
        "Disconnect (shut down) the server.\n\n"
      ]
    },
    {
      "cell_type": "code",
      "execution_count": null,
      "metadata": {
        "collapsed": false
      },
      "outputs": [],
      "source": [
        "print(\"Disconnecting from the server.\")\nmy_server = None"
      ]
    },
    {
      "cell_type": "markdown",
      "metadata": {},
      "source": [
        "## Use a DPF server with a LicenseContextManager\n\nInitialize a DPF server using a LicenseContextManager and execute the same code as run previously.\n\n**Note**: The LicenseContextManager is a mechanism that checks out a license increment\nwhen entering the context and releases it when exiting the context.\n\n"
      ]
    },
    {
      "cell_type": "code",
      "execution_count": null,
      "metadata": {
        "collapsed": false
      },
      "outputs": [],
      "source": [
        "# Connect to a remote server or start a local server using a LicenseContextManager\nprint(\"Connecting to the server using a LicenseContextManager\")\nmy_server, my_license_context = connect_to_or_start_server(use_license_context=True)\n\n# Execute the same and measure the execution time\npath_flute_wav = download_flute_wav(server=my_server)\n\nfor i in range(5):\n    now = datetime.datetime.now()\n    wav_loader = LoadWav(path_flute_wav)\n    wav_loader.process()\n    fc_signal = wav_loader.get_output()\n    later = datetime.datetime.now()\n    execution_time = later - now\n    print(\n        f\"Elapsed time (loop {i+1}): \"\n        f\"{execution_time.seconds + execution_time.microseconds / 1e6}\"\n        f\" seconds\"\n    )"
      ]
    },
    {
      "cell_type": "markdown",
      "metadata": {},
      "source": [
        "You can see that the execution time is much faster when you use a LicenseContextManager.\nThis is because when a LicenseContactManager is not used, the license is checked out\neach time you use a DPF Sound operator.\n\n"
      ]
    },
    {
      "cell_type": "markdown",
      "metadata": {},
      "source": [
        "You can release the license increment by deleting the LicenseContextManager object.\n\n"
      ]
    },
    {
      "cell_type": "code",
      "execution_count": null,
      "metadata": {
        "collapsed": false
      },
      "outputs": [],
      "source": [
        "print(\"Releasing the license increment by deleting the LicenseContextManager object.\")\nmy_license_context = None"
      ]
    },
    {
      "cell_type": "markdown",
      "metadata": {},
      "source": [
        "Now that the LicenseContextManager has been deleted, any new call to a PyAnsys Sound function\nwill spend time checking out the license increment again. Let us call the same function as before\nand measure the execution time again:\n\n"
      ]
    },
    {
      "cell_type": "code",
      "execution_count": null,
      "metadata": {
        "collapsed": false
      },
      "outputs": [],
      "source": [
        "now = datetime.datetime.now()\nwav_loader = LoadWav(path_flute_wav)\nwav_loader.process()\nfc_signal = wav_loader.get_output()\nlater = datetime.datetime.now()\nexecution_time = later - now\nprint(\n    f\"Elapsed time: \" f\"{execution_time.seconds + execution_time.microseconds / 1e6}\" f\" seconds\",\n)"
      ]
    },
    {
      "cell_type": "markdown",
      "metadata": {},
      "source": [
        "Disconnect (shut down) the server.\n\n"
      ]
    },
    {
      "cell_type": "code",
      "execution_count": null,
      "metadata": {
        "collapsed": false
      },
      "outputs": [],
      "source": [
        "print(\"Disconnecting from the server and releasing the license increment.\")\nmy_server = None"
      ]
    }
  ],
  "metadata": {
    "kernelspec": {
      "display_name": "Python 3",
      "language": "python",
      "name": "python3"
    },
    "language_info": {
      "codemirror_mode": {
        "name": "ipython",
        "version": 3
      },
      "file_extension": ".py",
      "mimetype": "text/x-python",
      "name": "python",
      "nbconvert_exporter": "python",
      "pygments_lexer": "ipython3",
      "version": "3.12.10"
    }
  },
  "nbformat": 4,
  "nbformat_minor": 0
}