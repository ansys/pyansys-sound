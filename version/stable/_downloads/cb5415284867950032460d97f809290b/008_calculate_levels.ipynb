{
  "cells": [
    {
      "cell_type": "markdown",
      "metadata": {},
      "source": [
        "\n\n# Calculate RMS, dBSPL and dBA levels\n\nThis example shows how to calculate RMS, dBSPL and dBA levels.\nThe following levels are included:\n\n- Overall RMS level\n- Overall dBSPL level\n- Overall dBA level\n- RMS level over time\n- dBSPL level over time\n- dBA level over time\n\nThe example shows how to perform these operations:\n\n- Set up the analysis.\n- Calculate levels on loaded WAV files.\n- Get calculation outputs.\n- Plot some corresponding curves.\n- Export levels into a .csv files.\n"
      ]
    },
    {
      "cell_type": "markdown",
      "metadata": {},
      "source": [
        "## Set up analysis\nSetting up the analysis consists of loading Ansys libraries, and connecting to the DPF server.\n\n"
      ]
    },
    {
      "cell_type": "code",
      "execution_count": null,
      "metadata": {
        "collapsed": false
      },
      "outputs": [],
      "source": [
        "# Load standard libraries.\nimport csv\nimport os\n\nimport matplotlib.pyplot as plt\n\n# Load Ansys libraries.\nfrom ansys.sound.core.examples_helpers import (\n    download_aircraft_wav,\n    download_fan_wav,\n)\nfrom ansys.sound.core.server_helpers import connect_to_or_start_server\nfrom ansys.sound.core.signal_utilities import LoadWav\nfrom ansys.sound.core.standard_levels import LevelOverTime, OverallLevel\n\n# Connect to a remote server or start a local server.\nmy_server, lic_context = connect_to_or_start_server(use_license_context=True)"
      ]
    },
    {
      "cell_type": "markdown",
      "metadata": {},
      "source": [
        "## Calculate overall RMS, dBSPL and dBA levels\nLoad a signal from a WAV file using the :class:`.LoadWav` class. It is returned as a\n:class:`FieldsContainer <ansys.dpf.core.fields_container.FieldsContainer>` object.\n\n"
      ]
    },
    {
      "cell_type": "code",
      "execution_count": null,
      "metadata": {
        "collapsed": false
      },
      "outputs": [],
      "source": [
        "# Load example data from two wav files.\npath_fan_wav = download_fan_wav(server=my_server)\npath_aircraft_wav = download_aircraft_wav(server=my_server)"
      ]
    },
    {
      "cell_type": "markdown",
      "metadata": {},
      "source": [
        "Create a first .csv file in which the overall levels will be written, and write the header row.\n\n"
      ]
    },
    {
      "cell_type": "code",
      "execution_count": null,
      "metadata": {
        "collapsed": false
      },
      "outputs": [],
      "source": [
        "filepath_overall_results = open(\"Overall_Results.csv\", \"w+\", newline=\"\")\ncsv_writer_overall_results = csv.writer(filepath_overall_results)\nheader_row = [\"Signal name\", \"Overall level [RMS]\", \"Overall level [dBSPL]\", \"Overall level [dBA]\"]\n_ = csv_writer_overall_results.writerow(header_row)"
      ]
    },
    {
      "cell_type": "markdown",
      "metadata": {},
      "source": [
        "For each sound, create an :class:`.OverallLevel` object, set its signals, compute the overall RMS,\ndBSPL and dBA levels, and then write the results into the .csv file.\n\n"
      ]
    },
    {
      "cell_type": "code",
      "execution_count": null,
      "metadata": {
        "collapsed": false
      },
      "outputs": [],
      "source": [
        "for file_path in (path_fan_wav, path_aircraft_wav):\n    # Load wav.\n    wav_loader = LoadWav(file_path)\n    wav_loader.process()\n    signal = wav_loader.get_output()[0]\n\n    # Calculate RMS.\n    level_RMS = OverallLevel(signal=signal, scale=\"RMS\")\n    level_RMS.process()\n    rms = level_RMS.get_level()\n\n    # Calculate dBSPL.\n    level_dBSPL = OverallLevel(signal=signal, scale=\"dB\", reference_value=2e-5)\n    level_dBSPL.process()\n    dBSPL = level_dBSPL.get_level()\n\n    # Calculate dBA.\n    level_dBA = OverallLevel(\n        signal=signal, scale=\"dB\", reference_value=2e-5, frequency_weighting=\"A\"\n    )\n    level_dBA.process()\n    dBA = level_dBA.get_level()\n\n    # Print the results.\n    file_name = os.path.basename(file_path)\n    print(\n        f\"\\nThe RMS level of sound file {file_name} is {rms:.1f} {signal.unit}, its dBSPL level is\"\n        f\" {dBSPL:.1f} dBSPL and its dBA level is {dBA:.1f} dBA.\"\n    )\n\n    # Write the results in .csv.\n    csv_writer_overall_results.writerow([file_name[:-4], rms, dBSPL, dBA])\n\nfilepath_overall_results.close()"
      ]
    },
    {
      "cell_type": "markdown",
      "metadata": {},
      "source": [
        "## Calculate RMS, dBSPL and dBA levels over time\nInitialize empty lists to store the levels in order to plot them.\n\n"
      ]
    },
    {
      "cell_type": "code",
      "execution_count": null,
      "metadata": {
        "collapsed": false
      },
      "outputs": [],
      "source": [
        "time = []\nrms_levels = []\nSPL_levels = []\nA_weighted_levels = []"
      ]
    },
    {
      "cell_type": "markdown",
      "metadata": {},
      "source": [
        "For each sound, create a :class:`.LevelOverTime` object, set its signals, compute and plot the\nRMS level over time, the dBSPL level over time and the dBA level over time, then write the\nresults into an individual .csv file.\n\n"
      ]
    },
    {
      "cell_type": "code",
      "execution_count": null,
      "metadata": {
        "collapsed": false
      },
      "outputs": [],
      "source": [
        "for file_path in (path_fan_wav, path_aircraft_wav):\n    # Write a .csv file for each sound, and add the header row.\n    file = os.path.basename(file_path)\n    filepath_results_vs_time = open(\n        os.path.join(file[:-4] + \"_Levels_vs_time_Results.csv\"), \"w+\", newline=\"\"\n    )\n    csv_writer_results_vs_time = csv.writer(filepath_results_vs_time)\n    csv_writer_results_vs_time.writerow([\"time steps [s]\", \"RMS level\", \"dBSPL level\", \"dBA level\"])\n\n    # Load wav.\n    wav_loader = LoadWav(file_path)\n    wav_loader.process()\n    signal = wav_loader.get_output()[0]\n\n    # Calculate RMS over time and get the time steps.\n    rms_level_time_varying = LevelOverTime(\n        signal=signal, scale=\"RMS\", frequency_weighting=\"\", time_weighting=\"Fast\"\n    )\n    rms_level_time_varying.process()\n    rms_level_over_time = rms_level_time_varying.get_level_over_time()\n    rms_level_unit = rms_level_time_varying.get_output()[1].unit\n    time_steps = rms_level_time_varying.get_time_scale()\n    time.append(time_steps.tolist())\n    time_unit = rms_level_time_varying.get_output()[1].time_freq_support.time_frequencies.unit\n\n    # Calculate dBSPL over time.\n    SPL_time_varying = LevelOverTime(\n        signal=signal,\n        scale=\"dB\",\n        reference_value=2e-5,\n        frequency_weighting=\"\",\n        time_weighting=\"Fast\",\n    )\n    SPL_time_varying.process()\n    SPL_over_time = SPL_time_varying.get_level_over_time()\n    SPL_unit = SPL_time_varying.get_output()[1].unit\n\n    # Calculate dBA over time.\n    A_weighted_level_time_varying = LevelOverTime(\n        signal=signal,\n        scale=\"dB\",\n        reference_value=2e-5,\n        frequency_weighting=\"A\",\n        time_weighting=\"Fast\",\n    )\n    A_weighted_level_time_varying.process()\n    A_weighted_level_over_time = A_weighted_level_time_varying.get_level_over_time()\n    A_weighted_level_unit = A_weighted_level_time_varying.get_output()[1].unit\n\n    # Append all the results to the lists previously created.\n    rms_levels.append(rms_level_over_time.tolist())\n    SPL_levels.append(SPL_over_time.tolist())\n    A_weighted_levels.append(A_weighted_level_over_time.tolist())\n\n    # Write the results in the .csv files.\n    for i in range(len(time_steps)):\n        csv_writer_results_vs_time.writerow(\n            [time_steps[i], rms_level_over_time[i], SPL_over_time[i], A_weighted_level_over_time[i]]\n        )"
      ]
    },
    {
      "cell_type": "markdown",
      "metadata": {},
      "source": [
        "Use the object's ``plot()`` method to plot the level over time (here, level in dBA, for the\nsecond signal).\n\n"
      ]
    },
    {
      "cell_type": "code",
      "execution_count": null,
      "metadata": {
        "collapsed": false
      },
      "outputs": [],
      "source": [
        "A_weighted_level_over_time = A_weighted_level_time_varying.plot()"
      ]
    },
    {
      "cell_type": "markdown",
      "metadata": {},
      "source": [
        "Alternatively, plot the results over time for both signals into three graphs.\n\n"
      ]
    },
    {
      "cell_type": "code",
      "execution_count": null,
      "metadata": {
        "collapsed": false
      },
      "outputs": [],
      "source": [
        "fig, axs = plt.subplots(3)\nfig.suptitle(\"Time varying RMS, dBSPL and dBA levels\")\n\naxs[0].plot(time[0], rms_levels[0], color=\"b\", label=\"Fan\")\naxs[0].plot(time[1], rms_levels[1], color=\"r\", label=\"Airplane\")\naxs[0].set_ylabel(f\"RMS level ({rms_level_unit})\")\naxs[0].legend(loc=\"upper right\")\n\naxs[1].plot(time[0], SPL_levels[0], color=\"b\", label=\"Fan\")\naxs[1].plot(time[1], SPL_levels[1], color=\"r\", label=\"Airplane\")\naxs[1].set_ylabel(f\"Level ({SPL_unit})\")\naxs[1].legend(loc=\"upper right\")\n\naxs[2].plot(time[0], A_weighted_levels[0], color=\"b\", label=\"Fan\")\naxs[2].plot(time[1], A_weighted_levels[1], color=\"r\", label=\"Airplane\")\naxs[2].set_ylabel(f\"Level ({A_weighted_level_unit})\")\naxs[2].legend(loc=\"upper right\")\naxs[2].set_xlabel(f\"Time ({time_unit})\")\n\nplt.show()"
      ]
    }
  ],
  "metadata": {
    "kernelspec": {
      "display_name": "Python 3",
      "language": "python",
      "name": "python3"
    },
    "language_info": {
      "codemirror_mode": {
        "name": "ipython",
        "version": 3
      },
      "file_extension": ".py",
      "mimetype": "text/x-python",
      "name": "python",
      "nbconvert_exporter": "python",
      "pygments_lexer": "ipython3",
      "version": "3.12.10"
    }
  },
  "nbformat": 4,
  "nbformat_minor": 0
}