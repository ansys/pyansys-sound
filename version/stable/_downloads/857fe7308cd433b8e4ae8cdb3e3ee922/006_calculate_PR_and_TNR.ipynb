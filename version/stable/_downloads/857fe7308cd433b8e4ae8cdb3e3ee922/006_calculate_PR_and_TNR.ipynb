{
  "cells": [
    {
      "cell_type": "markdown",
      "metadata": {},
      "source": [
        "\n\n# Calculate TNR and PR\n\nIn the first part, this example shows how to calculate tone-to-noise ratio (TNR) and prominence\nratio (PR) following the ECMA 418-1 and ISO 7779 standards. It also extracts\nthe desired TNR and PR information and displays it in the console.\n\nIn the second part, the example shows how to calculate TNR and PR for specific\norders, when the input signal is associated with an RPM profile.\n"
      ]
    },
    {
      "cell_type": "markdown",
      "metadata": {},
      "source": [
        "## Set up analysis\nSetting up the analysis consists of loading Ansys libraries, connecting to the\nDPF server, and retrieving the example files.\n\n"
      ]
    },
    {
      "cell_type": "code",
      "execution_count": null,
      "metadata": {
        "collapsed": false
      },
      "outputs": [],
      "source": [
        "# Load Ansys libraries.\nfrom ansys.dpf.core import TimeFreqSupport, fields_factory, locations\nimport numpy as np\n\nfrom ansys.sound.core.examples_helpers import (\n    download_accel_with_rpm_wav,\n    download_flute_psd,\n    download_flute_wav,\n)\nfrom ansys.sound.core.psychoacoustics import (\n    ProminenceRatio,\n    ProminenceRatioForOrdersOverTime,\n    ToneToNoiseRatio,\n    ToneToNoiseRatioForOrdersOverTime,\n)\nfrom ansys.sound.core.server_helpers import connect_to_or_start_server\nfrom ansys.sound.core.signal_utilities import LoadWav\nfrom ansys.sound.core.spectral_processing import PowerSpectralDensity\n\n# Connect to a remote server or start a local server.\nmy_server, lic_context = connect_to_or_start_server(use_license_context=True)"
      ]
    },
    {
      "cell_type": "markdown",
      "metadata": {},
      "source": [
        "## Calculate TNR from a PSD\nLoad a power spectral density (PSD) stored as a text file and then use it to create\na field that serves as an input for the TNR calculation.\n\n"
      ]
    },
    {
      "cell_type": "code",
      "execution_count": null,
      "metadata": {
        "collapsed": false
      },
      "outputs": [],
      "source": [
        "# Load the PSD contained in an ASCII file. This file has two columns: 'Frequency (Hz)'\n# and 'PSD amplitude (dB SPL/Hz)'.\npath_flute_psd = download_flute_psd()\nfid = open(path_flute_psd)\nfid.readline()  # Skip the first line (header)\nall_lines = fid.readlines()\nfid.close()\n\n# Create the array of PSD amplitude values.\npsd_dBSPL_per_Hz = []\nfrequencies_original = []\nfor line in all_lines:\n    splitted_line = line.split()\n    psd_dBSPL_per_Hz.append(float(splitted_line[1]))\n    frequencies_original.append(float(splitted_line[0]))\n\n# Convert amplitudes in dBSPL/Hz into power in Pa^2/Hz.\npsd_dBSPL_per_Hz = np.array(psd_dBSPL_per_Hz)\npsd_Pa2_per_Hz = np.power(10, psd_dBSPL_per_Hz / 10) * 4e-10\n\n# The TNR/PR operators require the frequency array to be regularly spaced.\n# Thus, the original frequencies are interpolated to regularly spaced points.\nfrequencies_interp = np.linspace(0, 22050, len(frequencies_original))\npsd_Pa2_per_Hz_interp = np.interp(frequencies_interp, frequencies_original, psd_Pa2_per_Hz)\n\n# Create the input PSD field for computation of TNR and PR.\nf_psd = fields_factory.create_scalar_field(num_entities=1, location=locations.time_freq)\nf_psd.append(psd_Pa2_per_Hz_interp, 1)\nf_psd.unit = \"Pa^2/Hz\"\n\n# Create and include a field containing the array of frequencies.\nsupport = TimeFreqSupport()\nf_frequencies = fields_factory.create_scalar_field(num_entities=1, location=locations.time_freq)\nf_frequencies.append(frequencies_interp, 1)\nsupport.time_frequencies = f_frequencies\nf_psd.time_freq_support = support"
      ]
    },
    {
      "cell_type": "markdown",
      "metadata": {},
      "source": [
        "Create a :class:`.ToneToNoiseRatio` object, set the created PSD field as input, and compute the\nTNR.\n\n"
      ]
    },
    {
      "cell_type": "code",
      "execution_count": null,
      "metadata": {
        "collapsed": false
      },
      "outputs": [],
      "source": [
        "tone_to_noise_ratio = ToneToNoiseRatio(psd=f_psd)\ntone_to_noise_ratio.process()"
      ]
    },
    {
      "cell_type": "markdown",
      "metadata": {},
      "source": [
        "Print results.\n\n"
      ]
    },
    {
      "cell_type": "code",
      "execution_count": null,
      "metadata": {
        "collapsed": false
      },
      "outputs": [],
      "source": [
        "number_tones = tone_to_noise_ratio.get_nb_tones()\nTNR = tone_to_noise_ratio.get_max_TNR_value()\nTNR_frequencies = tone_to_noise_ratio.get_peaks_frequencies()\nTNR_values = tone_to_noise_ratio.get_TNR_values()\nTNR_levels = tone_to_noise_ratio.get_peaks_levels()\n\nfrequency_unit = tone_to_noise_ratio.get_output().get_property(\"frequency_Hz\").unit\nbandwidth_unit = tone_to_noise_ratio.get_output().get_property(\"bandwidth_lower_Hz\").unit\ntnr_unit = tone_to_noise_ratio.get_output().get_property(\"TNR_dB\").unit\nlevel_unit = tone_to_noise_ratio.get_output().get_property(\"level_dB\").unit\n\nprint(\n    f\"\\n\"\n    f\"Number of tones found: {number_tones}\\n\"\n    f\"Maximum TNR value: {np.round(TNR, 1)} dB\\n\"\n    f\"All detected peaks' frequencies ({frequency_unit}): {np.round(TNR_frequencies)}\\n\"\n    f\"All peaks' TNR values ({tnr_unit}): {np.round(TNR_values, 1)}\\n\"\n    f\"All peaks' absolute levels ({level_unit}): {np.round(TNR_levels, 1)}\"\n)"
      ]
    },
    {
      "cell_type": "markdown",
      "metadata": {},
      "source": [
        "Plot the TNR over frequency.\n\n"
      ]
    },
    {
      "cell_type": "code",
      "execution_count": null,
      "metadata": {
        "collapsed": false
      },
      "outputs": [],
      "source": [
        "tone_to_noise_ratio.plot()"
      ]
    },
    {
      "cell_type": "markdown",
      "metadata": {},
      "source": [
        "Recalculate the TNR for specific frequencies.\n\n"
      ]
    },
    {
      "cell_type": "code",
      "execution_count": null,
      "metadata": {
        "collapsed": false
      },
      "outputs": [],
      "source": [
        "frequencies = [261, 525, 786, 1836]\ntone_to_noise_ratio = ToneToNoiseRatio(psd=f_psd, frequency_list=frequencies)\ntone_to_noise_ratio.process()"
      ]
    },
    {
      "cell_type": "markdown",
      "metadata": {},
      "source": [
        "Print information for a specific detected peak.\n\n"
      ]
    },
    {
      "cell_type": "code",
      "execution_count": null,
      "metadata": {
        "collapsed": false
      },
      "outputs": [],
      "source": [
        "tone_to_noise_ratio_525 = tone_to_noise_ratio.get_single_tone_info(tone_index=1)\nTNR_frequency = tone_to_noise_ratio_525[0]\nTNR_width = tone_to_noise_ratio_525[4] - tone_to_noise_ratio_525[3]\nTNR = tone_to_noise_ratio_525[1]\nprint(\n    f\"\\n\"\n    f\"TNR info for peak at ~525 Hz: \\n\"\n    f\"Exact tone frequency: {round(TNR_frequency, 2)} {frequency_unit}\\n\"\n    f\"Tone width: {round(TNR_width, 2)} {bandwidth_unit}\\n\"\n    f\"TNR value: {round(TNR, 2)} {tnr_unit}\"\n)"
      ]
    },
    {
      "cell_type": "markdown",
      "metadata": {},
      "source": [
        "## Calculate PR from a signal\nUse the :class:`.PowerSpectralDensity` class to calculate a PSD, and compute Prominence Ratio\n(PR).\n\n"
      ]
    },
    {
      "cell_type": "code",
      "execution_count": null,
      "metadata": {
        "collapsed": false
      },
      "outputs": [],
      "source": [
        "# Load example data from a WAV file (recording of a flute).\npath_flute_wav = download_flute_wav(server=my_server)\nwav_loader = LoadWav(path_flute_wav)\nwav_loader.process()\nflute_signal = wav_loader.get_output()[0]"
      ]
    },
    {
      "cell_type": "markdown",
      "metadata": {},
      "source": [
        "Create a :class:`.PowerSpectralDensity` object, set its input signal and parameters,\nand compute the PSD.\n\n"
      ]
    },
    {
      "cell_type": "code",
      "execution_count": null,
      "metadata": {
        "collapsed": false
      },
      "outputs": [],
      "source": [
        "psd_object = PowerSpectralDensity(\n    flute_signal, fft_size=32768, window_type=\"HANN\", window_length=32768, overlap=0.5\n)\npsd_object.process()"
      ]
    },
    {
      "cell_type": "markdown",
      "metadata": {},
      "source": [
        "Get the computed PSD as a Field.\n\n"
      ]
    },
    {
      "cell_type": "code",
      "execution_count": null,
      "metadata": {
        "collapsed": false
      },
      "outputs": [],
      "source": [
        "f_psd = psd_object.get_output()"
      ]
    },
    {
      "cell_type": "markdown",
      "metadata": {},
      "source": [
        "Create a :class:`.ProminenceRatio` object, set the computed PSD as input, and compute the PR.\n\n"
      ]
    },
    {
      "cell_type": "code",
      "execution_count": null,
      "metadata": {
        "collapsed": false
      },
      "outputs": [],
      "source": [
        "prominence_ratio = ProminenceRatio(psd=f_psd)\nprominence_ratio.process()"
      ]
    },
    {
      "cell_type": "markdown",
      "metadata": {},
      "source": [
        "Print the results.\n\n"
      ]
    },
    {
      "cell_type": "code",
      "execution_count": null,
      "metadata": {
        "collapsed": false
      },
      "outputs": [],
      "source": [
        "number_tones = prominence_ratio.get_nb_tones()\nPR = prominence_ratio.get_max_PR_value()\nPR_frequencies = prominence_ratio.get_peaks_frequencies()\nPR_values = prominence_ratio.get_PR_values()\nPR_levels = prominence_ratio.get_peaks_levels()\nprint(\n    f\"\\n\"\n    f\"Number of tones found: {number_tones}\\n\"\n    f\"Maximum PR value: {np.round(PR, 1)} dB\\n\"\n    f\"All detected peaks' frequencies ({frequency_unit}): {np.round(PR_frequencies)}\\n\"\n    f\"All peaks' PR values ({tnr_unit}): {np.round(PR_values, 1)}\\n\"\n    f\"All peaks' absolute levels ({level_unit}): {np.round(PR_levels, 1)}\"\n)"
      ]
    },
    {
      "cell_type": "markdown",
      "metadata": {},
      "source": [
        "Plot the PR as a function of frequency.\n\n"
      ]
    },
    {
      "cell_type": "code",
      "execution_count": null,
      "metadata": {
        "collapsed": false
      },
      "outputs": [],
      "source": [
        "prominence_ratio.plot()"
      ]
    },
    {
      "cell_type": "markdown",
      "metadata": {},
      "source": [
        "Recalculate the PR for specific frequencies.\n\n"
      ]
    },
    {
      "cell_type": "code",
      "execution_count": null,
      "metadata": {
        "collapsed": false
      },
      "outputs": [],
      "source": [
        "frequencies = [261, 525, 786, 1836]\nprominence_ratio = ProminenceRatio(psd=f_psd, frequency_list=frequencies)\nprominence_ratio.process()"
      ]
    },
    {
      "cell_type": "markdown",
      "metadata": {},
      "source": [
        "Print information for a specific detected peak.\n\n"
      ]
    },
    {
      "cell_type": "code",
      "execution_count": null,
      "metadata": {
        "collapsed": false
      },
      "outputs": [],
      "source": [
        "prominence_ratio_786 = prominence_ratio.get_single_tone_info(tone_index=2)\nPR_frequency = prominence_ratio_786[0]\nPR_width = prominence_ratio_786[4] - prominence_ratio_786[3]\nPR = prominence_ratio_786[1]\nprint(\n    f\"\\n\"\n    f\"PR info for peak at ~786 Hz: \\n\"\n    f\"Exact tone frequency: {round(PR_frequency, 2)} {frequency_unit}\\n\"\n    f\"Tone width: {round(PR_width, 2)} {bandwidth_unit}\\n\"\n    f\"PR value: {round(PR, 2)} {tnr_unit}\"\n)"
      ]
    },
    {
      "cell_type": "markdown",
      "metadata": {},
      "source": [
        "## Calculate TNR over time for specific orders\nLoad an acoustic signal and its associated RPM over time profile and calculate the TNR for\norder numbers 2, 4, and 6.\n\n"
      ]
    },
    {
      "cell_type": "code",
      "execution_count": null,
      "metadata": {
        "collapsed": false
      },
      "outputs": [],
      "source": [
        "# Load example data from a WAV file: this is a recording of the noise in a car cabin\n# during an acceleration. Note that this file contains the RPM profile as well,\n# in its second channel.\npath_accel_wav = download_accel_with_rpm_wav(server=my_server)\nwav_loader = LoadWav(path_accel_wav)\nwav_loader.process()\naccel_signal = wav_loader.get_output()[0]\naccel_rpm = wav_loader.get_output()[1]"
      ]
    },
    {
      "cell_type": "markdown",
      "metadata": {},
      "source": [
        "Create a :class:`.ToneToNoiseRatioForOrdersOverTime` object, set the input signal, the associated\nRPM profile, and the orders of interest, and compute the orders' TNR over time.\n\n"
      ]
    },
    {
      "cell_type": "code",
      "execution_count": null,
      "metadata": {
        "collapsed": false
      },
      "outputs": [],
      "source": [
        "TNR_orders = ToneToNoiseRatioForOrdersOverTime(\n    signal=accel_signal, profile=accel_rpm, order_list=[2.0, 4.0, 6.0]\n)\nTNR_orders.process()"
      ]
    },
    {
      "cell_type": "markdown",
      "metadata": {},
      "source": [
        "Display the TNR values over time, for the orders of interest.\n\n"
      ]
    },
    {
      "cell_type": "code",
      "execution_count": null,
      "metadata": {
        "collapsed": false
      },
      "outputs": [],
      "source": [
        "TNR_orders.plot(use_rpm_scale=False)"
      ]
    },
    {
      "cell_type": "markdown",
      "metadata": {},
      "source": [
        "You can then notice that order #2's TNR is above 0 dB at around 10 s and after 18 s, order #4's,\nat various times throughout the signal duration, and order #6's exceeds 0 dB more rarely.\n\n"
      ]
    },
    {
      "cell_type": "markdown",
      "metadata": {},
      "source": [
        "## Calculate PR over time for specific orders\nCreate a :class:`.ProminenceRatioForOrdersOverTime` object, set the input signal, the associated\nRPM profile, and the orders of interest, and compute the orders' PR over time.\n\n"
      ]
    },
    {
      "cell_type": "code",
      "execution_count": null,
      "metadata": {
        "collapsed": false
      },
      "outputs": [],
      "source": [
        "PR_orders = ProminenceRatioForOrdersOverTime(\n    signal=accel_signal, profile=accel_rpm, order_list=[2.0, 4.0, 6.0]\n)\nPR_orders.process()"
      ]
    },
    {
      "cell_type": "markdown",
      "metadata": {},
      "source": [
        "Display the PR values over RPM, for the orders of interest.\n\n"
      ]
    },
    {
      "cell_type": "code",
      "execution_count": null,
      "metadata": {
        "collapsed": false
      },
      "outputs": [],
      "source": [
        "PR_orders.plot(use_rpm_scale=True)"
      ]
    },
    {
      "cell_type": "markdown",
      "metadata": {},
      "source": [
        "You can then notice that order #6's PR is above 0 dB mostly in the range 2600-3600 rpm,\norder #4's, only above 4000 rpm, and order #2's, at various RPM values above 3000 rpm.\n\n"
      ]
    }
  ],
  "metadata": {
    "kernelspec": {
      "display_name": "Python 3",
      "language": "python",
      "name": "python3"
    },
    "language_info": {
      "codemirror_mode": {
        "name": "ipython",
        "version": 3
      },
      "file_extension": ".py",
      "mimetype": "text/x-python",
      "name": "python",
      "nbconvert_exporter": "python",
      "pygments_lexer": "ipython3",
      "version": "3.12.10"
    }
  },
  "nbformat": 4,
  "nbformat_minor": 0
}