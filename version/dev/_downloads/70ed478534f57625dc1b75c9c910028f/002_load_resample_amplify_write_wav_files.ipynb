{
  "cells": [
    {
      "cell_type": "markdown",
      "metadata": {},
      "source": [
        "\n\n# Load a signal from a WAV file\n\nThis example shows how to load a signal from a WAV file, modify the signal's\nsampling frequency, and amplify it. It also shows how to access the corresponding\ndata, display it using Matplotlib, and then write the modified signal to the disk as\na new WAV file.\n"
      ]
    },
    {
      "cell_type": "markdown",
      "metadata": {},
      "source": [
        "## Set up analysis\nSetting up the analysis consists of loading Ansys libraries, connecting to the\nDPF server, and retrieving the example files.\n\n"
      ]
    },
    {
      "cell_type": "code",
      "execution_count": null,
      "metadata": {
        "collapsed": false
      },
      "outputs": [],
      "source": [
        "# Load Ansys and other libraries.\nimport matplotlib.pyplot as plt\n\nfrom ansys.sound.core.examples_helpers import download_flute_wav\nfrom ansys.sound.core.server_helpers import connect_to_or_start_server\nfrom ansys.sound.core.signal_utilities import ApplyGain, LoadWav, Resample, WriteWav\n\n# Connect to a remote server or start a local server\nserver, lic_context = connect_to_or_start_server(use_license_context=True)"
      ]
    },
    {
      "cell_type": "markdown",
      "metadata": {},
      "source": [
        "## Load a signal\nLoad a signal from a WAV file using the ``LoadWav`` class. It is returned as a DPF\nfields container. For more information, see module [fields_container](https://dpf.docs.pyansys.com/version/stable/api/ansys/dpf/core/fields_container/index.html)\nin the DPF-Core API documentation.\n\n"
      ]
    },
    {
      "cell_type": "code",
      "execution_count": null,
      "metadata": {
        "collapsed": false
      },
      "outputs": [],
      "source": [
        "# Return the input data of the example file\npath_flute_wav = download_flute_wav(server=server)\n\n# Load the WAV file.\nwav_loader = LoadWav(path_flute_wav)\nwav_loader.process()\nfc_signal_original = wav_loader.get_output()\n\nt1 = fc_signal_original[0].time_freq_support.time_frequencies.data\nsf1 = 1.0 / (t1[1] - t1[0])\nprint(f\"The sampling frequency of the original signal is {int(sf1)} Hz.\")"
      ]
    },
    {
      "cell_type": "markdown",
      "metadata": {},
      "source": [
        "## Resample the signal\nChange the sampling frequency of the loaded signal.\n\n"
      ]
    },
    {
      "cell_type": "code",
      "execution_count": null,
      "metadata": {
        "collapsed": false
      },
      "outputs": [],
      "source": [
        "resampler = Resample(fc_signal_original, new_sampling_frequency=20000.0)\nresampler.process()\nfc_signal_resampled = resampler.get_output()\n\nt2 = fc_signal_resampled[0].time_freq_support.time_frequencies.data\nsf2 = 1.0 / (t2[1] - t2[0])\nprint(f\"The new sampling frequency of the signal is {int(sf2)} Hz.\")"
      ]
    },
    {
      "cell_type": "markdown",
      "metadata": {},
      "source": [
        "## Apply a gain to the signal\nAmplify the resampled signal by 10 decibels.\n\n"
      ]
    },
    {
      "cell_type": "code",
      "execution_count": null,
      "metadata": {
        "collapsed": false
      },
      "outputs": [],
      "source": [
        "gain = 10.0\ngain_applier = ApplyGain(fc_signal_resampled, gain=gain, gain_in_db=True)\ngain_applier.process()\nfc_signal_modified = gain_applier.get_output()"
      ]
    },
    {
      "cell_type": "markdown",
      "metadata": {},
      "source": [
        "## Plot signals\nPlot both the original signal and modified signal.\n\n"
      ]
    },
    {
      "cell_type": "code",
      "execution_count": null,
      "metadata": {
        "collapsed": false
      },
      "outputs": [],
      "source": [
        "# Get the signals as NumPy arrays\ndata_original = wav_loader.get_output_as_nparray()\nunit_original = wav_loader.get_output()[0].unit\ndata_modified = gain_applier.get_output_as_nparray()\nunit_modified = gain_applier.get_output()[0].unit\ngain_unit = \" dB\" if gain_applier.gain_in_db else \"(linear)\"\n\n# Prepare the figure\nfig, axs = plt.subplots(2)\nfig.suptitle(\"Signals\")\n\naxs[0].plot(t1, data_original, color=\"g\", label=f\"original signal, sf={int(sf1)} Hz\")\naxs[0].set_ylabel(f\"Amplitude ({unit_original})\")\naxs[0].legend(loc=\"upper right\")\naxs[0].set_ylim([-3, 3])\n\naxs[1].plot(\n    t2, data_modified, color=\"r\", label=f\"modified signal, sf={int(sf2)} Hz, gain={gain}{gain_unit}\"\n)\naxs[1].set_xlabel(\"Time (s)\")\naxs[1].set_ylabel(f\"Amplitude ({unit_modified})\")\naxs[1].legend(loc=\"upper right\")\naxs[1].set_ylim([-3, 3])\n\n# Display the figure\nplt.show()"
      ]
    },
    {
      "cell_type": "markdown",
      "metadata": {},
      "source": [
        "## Write the signal as a WAV file\nWrite the modified signal to the disk as a WAV file.\n\n"
      ]
    },
    {
      "cell_type": "code",
      "execution_count": null,
      "metadata": {
        "collapsed": false
      },
      "outputs": [],
      "source": [
        "output_path = path_flute_wav[:-4] + \"_modified.wav\"  # \"[-4]\" is to remove the \".wav\" extension\nwav_writer = WriteWav(path_to_write=output_path, signal=fc_signal_modified, bit_depth=\"int16\")\nwav_writer.process()"
      ]
    }
  ],
  "metadata": {
    "kernelspec": {
      "display_name": "Python 3",
      "language": "python",
      "name": "python3"
    },
    "language_info": {
      "codemirror_mode": {
        "name": "ipython",
        "version": 3
      },
      "file_extension": ".py",
      "mimetype": "text/x-python",
      "name": "python",
      "nbconvert_exporter": "python",
      "pygments_lexer": "ipython3",
      "version": "3.12.10"
    }
  },
  "nbformat": 4,
  "nbformat_minor": 0
}