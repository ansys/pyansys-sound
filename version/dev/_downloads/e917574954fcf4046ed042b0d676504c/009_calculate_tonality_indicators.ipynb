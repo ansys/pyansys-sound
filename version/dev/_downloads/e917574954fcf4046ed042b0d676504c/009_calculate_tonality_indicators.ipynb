{
  "cells": [
    {
      "cell_type": "markdown",
      "metadata": {},
      "source": [
        "\n\n# Calculate tonality indicators\n\nThis example shows how to calculate tonality indicators.\nThe list of indicators covered in this example is:\n\n- Annex C of ISO1996-2\n- DIN45681\n- ECMA-418-2\n- ISO/TS 20065\n- Aures\n\nAll these indicators are calculated using the same acoustic signal,\nand the results are commented, compared, and discussed.\n"
      ]
    },
    {
      "cell_type": "markdown",
      "metadata": {},
      "source": [
        "## Set up analysis\nSetting up the analysis consists of loading Ansys libraries, connecting to the\nDPF server, and retrieving the example file.\n\n"
      ]
    },
    {
      "cell_type": "code",
      "execution_count": null,
      "metadata": {
        "collapsed": false
      },
      "outputs": [],
      "source": [
        "# Load required libraries.\nfrom ansys.sound.core.examples_helpers import download_turbo_whistling_wav\nfrom ansys.sound.core.psychoacoustics import (\n    TonalityAures,\n    TonalityDIN45681,\n    TonalityECMA418_2,\n    TonalityISO1996_2,\n    TonalityISO1996_2_OverTime,\n    TonalityISOTS20065,\n)\nfrom ansys.sound.core.server_helpers import connect_to_or_start_server\nfrom ansys.sound.core.signal_utilities import LoadWav\nfrom ansys.sound.core.spectrogram_processing.stft import Stft\n\n\n# Connect to a remote server or start a local server.\nmy_server, lic_context = connect_to_or_start_server(use_license_context=True)\n\n# Load example data from a WAV file: flyover noise of an aircraft.\npath_turbo_whistle_wav = download_turbo_whistling_wav(server=my_server)\nwav_loader = LoadWav(path_turbo_whistle_wav)\nwav_loader.process()\nsignal_aircraft = wav_loader.get_output()[0]"
      ]
    },
    {
      "cell_type": "markdown",
      "metadata": {},
      "source": [
        "The signal used in this example is the flyover noise of an aircraft. The signal is sampled at\n10 kHz, and the duration is about 26 seconds.\n\n"
      ]
    },
    {
      "cell_type": "code",
      "execution_count": null,
      "metadata": {
        "collapsed": false
      },
      "outputs": [],
      "source": [
        "# Calculate and display the spectrogram of the signal used in this example.\nstft = Stft(signal_aircraft, fft_size=1024, window_overlap=0.8)\nstft.process()\nstft.plot()"
      ]
    },
    {
      "cell_type": "markdown",
      "metadata": {},
      "source": [
        "From the spectrogram, you can see that the signal contains some tonal components,\nespecially the two tones whose frequencies start at around 800 Hz and decrease over the\nduration of the signal, due to the Doppler effect.\n\n"
      ]
    },
    {
      "cell_type": "markdown",
      "metadata": {},
      "source": [
        "## ISO 1996-2 annex C\nIn this section, we calculate and print out the tonal audibility of the signal according to\nannex C of the standard ISO 1996-2 using the class :class:`.TonalityISO1996_2`.\n\n"
      ]
    },
    {
      "cell_type": "code",
      "execution_count": null,
      "metadata": {
        "collapsed": false
      },
      "outputs": [],
      "source": [
        "# Calculate the ISO 1996-2 tonality.\ntonality_ISO1996_2 = TonalityISO1996_2(signal=signal_aircraft)\ntonality_ISO1996_2.process()\n\n# Display the results in the console.\nprint(\n    f\"ISO 1996-2 tonality: \\n\"\n    f\"- tonal audibility: {tonality_ISO1996_2.get_tonal_audibility():.1f} dB\\n\"\n    f\"- tonal adjustment: {tonality_ISO1996_2.get_tonal_adjustment():.1f} dB\"\n)"
      ]
    },
    {
      "cell_type": "markdown",
      "metadata": {},
      "source": [
        "You can also retrieve computation details using the method\n:meth:`~.TonalityISO1996_2.get_computation_details()`. As you can notice, computing the ISO\n1996-2 tonality over the whole signal is not relevant, as the tonal audibility equals 0 dB in\nthat case, even if strong tonal components are audible. Rigorously speaking, the ISO 1996-2\nstandard requires at least 1 minute of stationary signal, which is often a very high bar to reach,\nespecially for transient signals. The ISO 1996-2 tonality is therefore not very useful for the\nanalysis of transient signals, and it is recommended to use the ISO 1996-2 tonality over time in\nthat case.\n\n"
      ]
    },
    {
      "cell_type": "markdown",
      "metadata": {},
      "source": [
        "Let us now calculate and plot the ISO 1996-2 tonality over time using the class\n:class:`.TonalityISO1996_2_OverTime`.\n\n"
      ]
    },
    {
      "cell_type": "code",
      "execution_count": null,
      "metadata": {
        "collapsed": false
      },
      "outputs": [],
      "source": [
        "# Calculate the ISO 1996-2 tonality over time.\ntonality_ISO1996_2_over_time = TonalityISO1996_2_OverTime(signal=signal_aircraft)\ntonality_ISO1996_2_over_time.process()\n\n# Display the results over time in a figure.\ntonality_ISO1996_2_over_time.plot()"
      ]
    },
    {
      "cell_type": "markdown",
      "metadata": {},
      "source": [
        "In this figure, you can notice that the tonal audibility and tonal adjustment show\nstrong tonal components near the beginning and the end of the signal.\nSome tonal content is also detected in the middle part of the signal, but less consistently so.\nThe most likely reason is that, due to the Doppler effect, the frequencies of the tones are\nchanging at a higher rate than in the other parts of the signal.\n\n"
      ]
    },
    {
      "cell_type": "markdown",
      "metadata": {},
      "source": [
        "## DIN 45681\nIn this section, we calculate, print out, and plot the tonality according to the DIN 45681\nstandard using the same signal and the class :class:`.TonalityDIN45681`.\n\n"
      ]
    },
    {
      "cell_type": "code",
      "execution_count": null,
      "metadata": {
        "collapsed": false
      },
      "outputs": [],
      "source": [
        "# Calculate the DIN 45681 tonality.\ntonality_DIN45681 = TonalityDIN45681(signal=signal_aircraft)\ntonality_DIN45681.process()\n\n# Display the overall results in the console.\nprint(\n    f\"DIN 45681 tonality: \\n\"\n    f\"- mean difference: {tonality_DIN45681.get_mean_difference():.1f} dB \"\n    f\"(+/-{tonality_DIN45681.get_uncertainty():.1f} dB)\\n\"\n    f\"- tonal adjustment: {tonality_DIN45681.get_tonal_adjustment():.1f} dB\"\n)"
      ]
    },
    {
      "cell_type": "markdown",
      "metadata": {},
      "source": [
        "The DIN 45681 tonality returns results in a similar form as the ISO 1996-2 tonality. However, as\nit is an average of the computed tonality over time, the overall DIN 45681 tonality value is\nmore relevant than that of ISO 1996-2, which computes tonality over the entire signal at once.\n\n"
      ]
    },
    {
      "cell_type": "code",
      "execution_count": null,
      "metadata": {
        "collapsed": false
      },
      "outputs": [],
      "source": [
        "# Display the results over time in a figure.\ntonality_DIN45681.plot()"
      ]
    },
    {
      "cell_type": "markdown",
      "metadata": {},
      "source": [
        "The DIN 45681 \"decisive difference\", displayed in the figure, is comparable in its definition to\nthe ISO 1996-2 tonal audibility over time. However the default time resolution for the\ncomputation of the two indicators is different (3 s for DIN 45681, 250 ms for ISO 1996-2). In\nboth cases, you can change this time resolution using the class properties\n:attr:`.TonalityDIN45681.window_length` for DIN 45681, and\n:attr:`.TonalityISO1996_2_OverTime.window_length` and\n:attr:`.TonalityISO1996_2_OverTime.overlap` for ISO 1996-2.\nAdditionally, the DIN 45681 class provides the frequency of the most prominent tone at each\ncomputation time step, with the method\n:meth:`.TonalityDIN45681.get_decisive_frequency_over_time()`.\n\n"
      ]
    },
    {
      "cell_type": "markdown",
      "metadata": {},
      "source": [
        "## ISO/TS 20065\nIn this section, we calculate, print out, and plot the tonality according to the ISO/TS 20065\nstandard using the same signal and the class :class:`TonalityISOTS20065`.\n\n"
      ]
    },
    {
      "cell_type": "code",
      "execution_count": null,
      "metadata": {
        "collapsed": false
      },
      "outputs": [],
      "source": [
        "# Calculate the ISO/TS 20065 tonality.\ntonality_ISOTS20065 = TonalityISOTS20065(signal=signal_aircraft)\ntonality_ISOTS20065.process()\n\n# Display the overall results in the console.\nprint(\n    f\"ISO/TS 20065 tonality (mean audibility): {tonality_ISOTS20065.get_mean_audibility():.1f} dB \"\n    f\"(+/- {tonality_ISOTS20065.get_uncertainty():.1f} dB)\"\n)\n\n# Display the results over time in a figure.\ntonality_ISOTS20065.plot()"
      ]
    },
    {
      "cell_type": "markdown",
      "metadata": {},
      "source": [
        "As you can see from the results, the ISO/TS 20065 tonality is basically the same as the DIN 45681\ntonality. Nonetheless a few minor differences are noteworthy:\n\n"
      ]
    },
    {
      "cell_type": "markdown",
      "metadata": {},
      "source": [
        "- the DIN 45681 standard computes a tonal adjustment Kt, meant to be used as a dBA penalty when\n  the sound has tonal components, whereas the ISO/TS 20065 standard does not.\n- the DIN 45681 standard can detect tones down to 90 Hz, whereas this limit is extended to 50 Hz\n  in the ISO/TS 20065 standard. This means that a very low frequency tone (that is, between 50\n  and 90 Hz) can be detected by the ISO/TS 20065 standard, but will most likely be missed by\n  the DIN 45681 standard.\n- Some minor differences in the calculation of the detected tones\u2019 edge slopes.\n\n"
      ]
    },
    {
      "cell_type": "markdown",
      "metadata": {},
      "source": [
        "## Aures\nIn this section, we calculate, print out, and plot the tonality according to Aures model using\nthe same signal and the class :class:`.TonalityAures`.\n\n"
      ]
    },
    {
      "cell_type": "code",
      "execution_count": null,
      "metadata": {
        "collapsed": false
      },
      "outputs": [],
      "source": [
        "# Calculate the Aures tonality.\ntonality_Aures = TonalityAures(signal=signal_aircraft)\ntonality_Aures.process()\n\n# Display the overall results in the console.\nprint(f\"Aures tonality: {tonality_Aures.get_tonality():.1f} tu\")"
      ]
    },
    {
      "cell_type": "markdown",
      "metadata": {},
      "source": [
        "Contrary to previously mentioned tonality standards, Aures tonality is meant to model the\nperceptual scale of tonality, which is known to have a non-linear relation to spectral peak\nemergence as expressed in decibels. It uses a specific unit called tonality unit (tu), using as a\nreference a 1-kHz pure tone with a level of 60 dB SPL, which is assigned a tonality of 1 tu.\n\n"
      ]
    },
    {
      "cell_type": "code",
      "execution_count": null,
      "metadata": {
        "collapsed": false
      },
      "outputs": [],
      "source": [
        "# Display the results over time in a figure.\ntonality_Aures.plot()"
      ]
    },
    {
      "cell_type": "markdown",
      "metadata": {},
      "source": [
        "The figure plots the the Aures tonality over time, which is the main value of interest, and the\ntonal component weighting and relative loudness weighting, which are two intermediate\nmultiplicative parameters used to calculate the tonality.\n\n"
      ]
    },
    {
      "cell_type": "markdown",
      "metadata": {},
      "source": [
        "## ECMA-418-2\nIn this section, we calculate, print out, and plot the tonality according to the ECMA-418-2\nstandard (3rd edition, 2024) using the same signal and the class :class:`.TonalityECMA418_2`.\n\n"
      ]
    },
    {
      "cell_type": "code",
      "execution_count": null,
      "metadata": {
        "collapsed": false
      },
      "outputs": [],
      "source": [
        "# Calculate the ECMA-418-2 tonality.\ntonality_ECMA418_2 = TonalityECMA418_2(signal=signal_aircraft, field_type=\"Free\", edition=\"3rd\")\ntonality_ECMA418_2.process()\n\n# Display the overall results in the console.\nprint(\n    \"Tonality ECMA 418-2 (psychoacoustic tonality): \"\n    f\"{tonality_ECMA418_2.get_tonality():.1f} tuHMS\"\n)"
      ]
    },
    {
      "cell_type": "markdown",
      "metadata": {},
      "source": [
        "As with the Aures tonality, the ECMA-418-2 standard uses a perceptual scale, with a specific unit\ncalled tuHMS (tonality unit, hearing model of Sottek). The hearing model of Sottek is a\nperceptual model of sound, where the tonality is computed based on autocorrelation functions\ncalculated in each critical band. A value of 1 tuHMS corresponds to the tonality of a 1-kHz pure\ntone with a level of 40 dB SPL. A value of 0 tuHMS indicates that no tonality could be detected\n(that is, no tonal content), while high values in tuHMS indicate prominent tonal contents.\n\n"
      ]
    },
    {
      "cell_type": "code",
      "execution_count": null,
      "metadata": {
        "collapsed": false
      },
      "outputs": [],
      "source": [
        "# Display the results over time in a figure.\ntonality_ECMA418_2.plot()"
      ]
    },
    {
      "cell_type": "markdown",
      "metadata": {},
      "source": [
        "The figure shows the psychoacoustic tonality over time, as well as the frequency of\nthe most prominent tone at each computation time step. The frequency seemingly follows the\nDoppler effect that the previously displayed spectrogram showed, only switching back and forth\nbetween the two main tones' frequencies.\n\n"
      ]
    }
  ],
  "metadata": {
    "kernelspec": {
      "display_name": "Python 3",
      "language": "python",
      "name": "python3"
    },
    "language_info": {
      "codemirror_mode": {
        "name": "ipython",
        "version": 3
      },
      "file_extension": ".py",
      "mimetype": "text/x-python",
      "name": "python",
      "nbconvert_exporter": "python",
      "pygments_lexer": "ipython3",
      "version": "3.12.10"
    }
  },
  "nbformat": 4,
  "nbformat_minor": 0
}