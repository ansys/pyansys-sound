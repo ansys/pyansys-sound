{
  "cells": [
    {
      "cell_type": "markdown",
      "metadata": {},
      "source": [
        "\n\n# Isolate orders\n\nOrders are harmonic and partial components in the sound related to the speed of a\nrotating machine. This example shows how to isolate orders in a signal containing an RPM profile.\nIt also uses additional classes from PyAnsys Sound to compute spectrograms\nand the loudness of the isolated signals.\n"
      ]
    },
    {
      "cell_type": "code",
      "execution_count": null,
      "metadata": {
        "collapsed": false
      },
      "outputs": [],
      "source": [
        "# Maximum frequency for STFT plots, change according to your need\nMAX_FREQUENCY_PLOT_STFT = 2000.0"
      ]
    },
    {
      "cell_type": "markdown",
      "metadata": {},
      "source": [
        "## Set up analysis\nSetting up the analysis consists of loading Ansys libraries, connecting to the\nDPF server, and retrieving the example files.\n\n\n"
      ]
    },
    {
      "cell_type": "code",
      "execution_count": null,
      "metadata": {
        "collapsed": false
      },
      "outputs": [],
      "source": [
        "# Load Ansys libraries.\nimport os\nimport pathlib\n\nimport matplotlib.pyplot as plt\nimport numpy as np\n\nfrom ansys.sound.core.examples_helpers import (\n    download_accel_with_rpm_2_wav,\n    download_accel_with_rpm_3_wav,\n    download_accel_with_rpm_wav,\n)\nfrom ansys.sound.core.psychoacoustics import LoudnessISO532_1_Stationary\nfrom ansys.sound.core.server_helpers import connect_to_or_start_server\nfrom ansys.sound.core.signal_utilities import LoadWav, WriteWav\nfrom ansys.sound.core.spectrogram_processing import IsolateOrders, Stft\n\n\n# Connect to a remote or start a local server\nmy_server, lic_context = connect_to_or_start_server(use_license_context=True)"
      ]
    },
    {
      "cell_type": "markdown",
      "metadata": {},
      "source": [
        "## Define custom STFT plot function\nDefine a custom function for STFT plots. It differs from the ``Stft.plot()`` method in that it\ndoes not display the phase and allows setting custom title, maximum SPL, and maximum frequency.\n\n"
      ]
    },
    {
      "cell_type": "code",
      "execution_count": null,
      "metadata": {
        "collapsed": false
      },
      "outputs": [],
      "source": [
        "def plot_stft(\n    stft: Stft,\n    SPLmax: float,\n    title: str = \"STFT\",\n    maximum_frequency: float = MAX_FREQUENCY_PLOT_STFT,\n) -> None:\n    \"\"\"Plot a short-term Fourier transform (STFT) into a figure window.\n\n    Parameters\n    ----------\n    stft: Stft\n        Object containing the STFT.\n    SPLmax: float\n        Maximum value (here in dB SPL) for the colormap.\n    title: str, default: \"STFT\"\n        Title of the figure.\n    maximum_frequency: float, default: MAX_FREQUENCY_PLOT_STFT\n        Maximum frequency in Hz to display.\n    \"\"\"\n    magnitude = stft.get_stft_magnitude_as_nparray()\n    magnitude_unit = stft.get_output()[0].unit\n    frequency_unit = stft.get_output()[0].time_freq_support.time_frequencies.unit\n    time_unit = stft.get_output().time_freq_support.time_frequencies.unit\n\n    # Only extract the first half of the STFT, as it is symmetrical\n    half_nfft = int(magnitude.shape[0] / 2) + 1\n\n    # Voluntarily ignore a numpy warning\n    np.seterr(divide=\"ignore\")\n    magnitude = 20 * np.log10(magnitude[0:half_nfft, :])\n    np.seterr(divide=\"warn\")\n\n    # Obtain sampling frequency, time steps, and number of time samples\n    time_data_signal = stft.signal.time_freq_support.time_frequencies.data\n    time_step = time_data_signal[1] - time_data_signal[0]\n    fs = 1.0 / time_step\n    time_data_spectrogram = stft.get_output().time_freq_support.time_frequencies.data\n\n    # Define boundaries of the plot\n    extent = [time_data_spectrogram[0], time_data_spectrogram[-1], 0.0, fs / 2.0]\n\n    # Plot\n    plt.figure()\n    plt.imshow(\n        magnitude,\n        origin=\"lower\",\n        aspect=\"auto\",\n        cmap=\"jet\",\n        extent=extent,\n        vmax=SPLmax,\n        vmin=SPLmax - 70.0,\n    )\n    plt.colorbar(label=f\"Magnitude ({magnitude_unit})\")\n    plt.ylabel(f\"Frequency ({frequency_unit})\")\n    plt.xlabel(f\"Time ({time_unit})\")\n    plt.ylim([0.0, maximum_frequency])  # Change the value of MAX_FREQUENCY_PLOT_STFT if needed\n    plt.title(title)\n    plt.show()"
      ]
    },
    {
      "cell_type": "markdown",
      "metadata": {},
      "source": [
        "## Load a signal with an RPM profile\nLoad a signal that has been generated with Ansys Sound Analysis\nand Specification (SAS) from a WAV file using the ``LoadWav`` class.\nThis class contains two channels:\n\n- The actual signal (an acceleration recording)\n- The associated RPM profile\n\n"
      ]
    },
    {
      "cell_type": "code",
      "execution_count": null,
      "metadata": {
        "collapsed": false
      },
      "outputs": [],
      "source": [
        "# Return the input data of the example file\npath_accel_wav = download_accel_with_rpm_wav(server=my_server)\n\n# Load the WAV file.\nwav_loader = LoadWav(path_accel_wav)\nwav_loader.process()\nfc_signal = wav_loader.get_output()\n\n# Extract the audio signal and the RPM profile\nwav_signal, rpm_signal = wav_loader.get_output_as_nparray()\n\n# Extract time support associated with the signal\ntime_support = fc_signal[0].time_freq_support.time_frequencies\n\n# Plot the signal and its associated RPM profile\nfig, ax = plt.subplots(nrows=2, sharex=True)\nax[0].plot(time_support.data, wav_signal)\nax[0].set_title(\"Audio Signal\")\nax[0].set_ylabel(f\"Amplitude ({fc_signal[0].unit})\")\nax[0].grid(True)\nax[1].plot(time_support.data, rpm_signal, color=\"red\")\nax[1].set_title(\"RPM profile\")\nax[1].set_ylabel(f\"RPM ({fc_signal[1].unit})\")\nax[1].grid(True)\nplt.xlabel(f\"Time ({time_support.unit})\")\nplt.show()"
      ]
    },
    {
      "cell_type": "markdown",
      "metadata": {},
      "source": [
        "## Plot spectrogram of the original signal\nPlot the spectrogram of the original signal.\n\n"
      ]
    },
    {
      "cell_type": "code",
      "execution_count": null,
      "metadata": {
        "collapsed": false
      },
      "outputs": [],
      "source": [
        "stft = Stft(signal=fc_signal[0], window_overlap=0.9, fft_size=8192)\nstft.process()\nmax_stft = 20 * np.log10(np.max(stft.get_stft_magnitude_as_nparray()))\nplot_stft(stft, max_stft)"
      ]
    },
    {
      "cell_type": "markdown",
      "metadata": {},
      "source": [
        "## Isolate orders\nIsolate orders 2, 4, and 6 with the ``IsolateOrders`` class.\n\n"
      ]
    },
    {
      "cell_type": "code",
      "execution_count": null,
      "metadata": {
        "collapsed": false
      },
      "outputs": [],
      "source": [
        "field_wav, field_rpm = wav_loader.get_output()\n\n# Define parameters for order isolation\norder_to_isolate = [2, 4, 6]  # Orders indexes to isolate as a list\nfft_size = 8192  # FFT Size (in samples)\nwindow_type = \"HANN\"  # Window type\nwindow_overlap = 0.9  # Window overlap\nwidth_selection = 3  # Width of the order selection in Hz\n\n# Instantiate the ``IsolateOrders`` class with the parameters\nisolate_orders = IsolateOrders(\n    signal=field_wav,\n    rpm_profile=field_rpm,\n    orders=order_to_isolate,\n    fft_size=fft_size,\n    window_type=window_type,\n    window_overlap=window_overlap,\n    width_selection=width_selection,\n)\n\n# Isolate orders\nisolate_orders.process()\n\n# Plot the spectrogram of the isolated orders\nstft.signal = isolate_orders.get_output()\nstft.process()\nplot_stft(stft, max_stft)"
      ]
    },
    {
      "cell_type": "markdown",
      "metadata": {},
      "source": [
        "## Isolate different orders\nChange FFT size, order indexes, and window type. Then re-isolate the orders.\n\n"
      ]
    },
    {
      "cell_type": "code",
      "execution_count": null,
      "metadata": {
        "collapsed": false
      },
      "outputs": [],
      "source": [
        "# Change some parameters directly using the setters of the class\nisolate_orders.orders = [2, 6]\nisolate_orders.window_type = \"BLACKMAN\"\n\n# Reprocess (Must be called explicitly. Otherwise, the output won't be updated.)\nisolate_orders.process()\n\n\n# Plot the spectrogram of the isolated orders\nstft.signal = isolate_orders.get_output()\nstft.process()\nplot_stft(stft, max_stft)"
      ]
    },
    {
      "cell_type": "markdown",
      "metadata": {},
      "source": [
        "## Work with the isolated signal\nPlot the signal containing the isolated orders and compute its loudness.\n\n"
      ]
    },
    {
      "cell_type": "code",
      "execution_count": null,
      "metadata": {
        "collapsed": false
      },
      "outputs": [],
      "source": [
        "# Plot the signal directly using the method from the ``IsolateOrders`` class\nisolate_orders.plot()\n\n# Use the ``Loudness`` class to compute the loudness of the isolate signal\ninput_loudness = isolate_orders.get_output()\ninput_loudness.unit = \"Pa\"\nloudness = LoudnessISO532_1_Stationary(signal=input_loudness)\nloudness.process()\n\nloudness_level_isolated_signal = loudness.get_loudness_level_phon()\n\n# Compute the loudness for the original signal\nloudness.signal = field_wav\nloudness.process()\n\nloudness_level_original_signal = loudness.get_loudness_level_phon()\n\nprint(f\"The loudness level of the original signal is {loudness_level_original_signal:.1f} phons.\")\nprint(f\"The loudness level of the isolated signal is {loudness_level_isolated_signal:.1f} phons.\")"
      ]
    },
    {
      "cell_type": "markdown",
      "metadata": {},
      "source": [
        "## Isolate orders of several signals in a loop\nLoop over a list of given signals and write them as a WAV file.\n\n"
      ]
    },
    {
      "cell_type": "code",
      "execution_count": null,
      "metadata": {
        "collapsed": false
      },
      "outputs": [],
      "source": [
        "# Obtain parent folder of the 'accel_with_rpm.wav' file\nparent_folder = pathlib.Path(path_accel_wav).parent.absolute()\n\npath_accel_wav_2 = download_accel_with_rpm_2_wav(server=my_server)\npath_accel_wav_3 = download_accel_with_rpm_3_wav(server=my_server)\npaths = (path_accel_wav, path_accel_wav_2, path_accel_wav_3)\n\nfft_sizes = [256, 2048, 4096]\n\nwav_writer = WriteWav()\n\n# Isolate orders for all the files containing RPM profiles in this folder\nfor file, fft_sz in zip(paths, fft_sizes):\n    # Loading the file\n    wav_loader.path_to_wav = file\n    wav_loader.process()\n\n    # Set parameters for order isolation\n    isolate_orders.signal = wav_loader.get_output()[0]\n    isolate_orders.rpm_profile = wav_loader.get_output()[1]\n    isolate_orders.fft_size = fft_sz\n    isolate_orders.process()\n\n    # Write as a WAV file on the disk\n    out_name = os.path.basename(file)[:-4] + \"_isolated_fft_size_\" + str(fft_sz) + \".wav\"\n    path_to_write = parent_folder / out_name\n    wav_writer.path_to_write = str(path_to_write)\n    wav_writer.signal = isolate_orders.get_output()\n    wav_writer.process()"
      ]
    }
  ],
  "metadata": {
    "kernelspec": {
      "display_name": "Python 3",
      "language": "python",
      "name": "python3"
    },
    "language_info": {
      "codemirror_mode": {
        "name": "ipython",
        "version": 3
      },
      "file_extension": ".py",
      "mimetype": "text/x-python",
      "name": "python",
      "nbconvert_exporter": "python",
      "pygments_lexer": "ipython3",
      "version": "3.12.10"
    }
  },
  "nbformat": 4,
  "nbformat_minor": 0
}