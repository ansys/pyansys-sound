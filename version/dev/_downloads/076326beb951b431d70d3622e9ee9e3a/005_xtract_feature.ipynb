{
  "cells": [
    {
      "cell_type": "markdown",
      "metadata": {},
      "source": [
        "\n\n# Use the Xtract feature\n\nThis example shows how to use the Xtract feature in PyAnsys Sound.\nIt demonstrates different capabilities of this feature, such as\nnoise extraction, tonal extraction, and transient extraction.\n"
      ]
    },
    {
      "cell_type": "code",
      "execution_count": null,
      "metadata": {
        "collapsed": false
      },
      "outputs": [],
      "source": [
        "# Maximum frequency for STFT plots, change according to your need\nMAX_FREQUENCY_PLOT_STFT = 5000.0"
      ]
    },
    {
      "cell_type": "markdown",
      "metadata": {},
      "source": [
        "## Set up analysis\nSetting up the analysis consists of loading Ansys libraries, connecting to the\nDPF server, and retrieving the example files.\n\n"
      ]
    },
    {
      "cell_type": "code",
      "execution_count": null,
      "metadata": {
        "collapsed": false
      },
      "outputs": [],
      "source": [
        "# Load Ansys libraries.\nimport os\n\nimport matplotlib.pyplot as plt\nimport numpy as np\n\nfrom ansys.sound.core.examples_helpers import (\n    download_xtract_demo_signal_1_wav,\n    download_xtract_demo_signal_2_wav,\n)\nfrom ansys.sound.core.server_helpers import connect_to_or_start_server\nfrom ansys.sound.core.signal_utilities import CropSignal, LoadWav\nfrom ansys.sound.core.spectrogram_processing import Stft\nfrom ansys.sound.core.xtract import (\n    Xtract,\n    XtractDenoiser,\n    XtractDenoiserParameters,\n    XtractTonal,\n    XtractTonalParameters,\n    XtractTransient,\n    XtractTransientParameters,\n)\n\n\n# Connect to a remote server or start a local server\nmy_server, lic_context = connect_to_or_start_server(use_license_context=True)"
      ]
    },
    {
      "cell_type": "markdown",
      "metadata": {},
      "source": [
        "## Define custom STFT plot function\nDefine a custom function for STFT plots. It differs from the ``Stft.plot()`` method in that it\ndoes not display the phase and allows setting custom title, maximum SPL, and maximum frequency.\n\n"
      ]
    },
    {
      "cell_type": "code",
      "execution_count": null,
      "metadata": {
        "collapsed": false
      },
      "outputs": [],
      "source": [
        "def plot_stft(\n    stft: Stft,\n    SPLmax: float,\n    title: str = \"STFT\",\n    maximum_frequency: float = MAX_FREQUENCY_PLOT_STFT,\n) -> None:\n    \"\"\"Plot a short-term Fourier transform (STFT) into a figure window.\n\n    Parameters\n    ----------\n    stft: Stft\n        Object containing the STFT.\n    SPLmax: float\n        Maximum value (here in dB SPL) for the colormap.\n    title: str, default: \"STFT\"\n        Title of the figure.\n    maximum_frequency: float, default: MAX_FREQUENCY_PLOT_STFT\n        Maximum frequency in Hz to display.\n    \"\"\"\n    magnitude = stft.get_stft_magnitude_as_nparray()\n    magnitude_unit = stft.get_output()[0].unit\n    frequency_unit = stft.get_output()[0].time_freq_support.time_frequencies.unit\n    time_unit = stft.get_output().time_freq_support.time_frequencies.unit\n\n    # Only extract the first half of the STFT, as it is symmetrical\n    half_nfft = int(magnitude.shape[0] / 2) + 1\n\n    # Voluntarily ignore a numpy warning\n    np.seterr(divide=\"ignore\")\n    magnitude = 20 * np.log10(magnitude[0:half_nfft, :])\n    np.seterr(divide=\"warn\")\n\n    # Obtain sampling frequency, time steps, and number of time samples\n    time_data = stft.signal.time_freq_support.time_frequencies.data\n    time_step = time_data[1] - time_data[0]\n    fs = 1.0 / time_step\n    num_time_index = len(stft.get_output().get_available_ids_for_label(\"time\"))\n\n    # Define boundaries of the plot\n    extent = [0, time_step * num_time_index, 0.0, fs / 2.0]\n\n    # Plot\n    plt.figure()\n    plt.imshow(\n        magnitude,\n        origin=\"lower\",\n        aspect=\"auto\",\n        cmap=\"jet\",\n        extent=extent,\n        vmax=SPLmax,\n        vmin=SPLmax - 70.0,\n    )\n    plt.colorbar(label=f\"Magnitude ({magnitude_unit})\")\n    plt.ylabel(f\"Frequency ({frequency_unit})\")\n    plt.xlabel(f\"Time ({time_unit})\")\n    plt.ylim([0.0, maximum_frequency])  # Change the value of MAX_FREQUENCY_PLOT_STFT if needed\n    plt.title(title)\n    plt.show()"
      ]
    },
    {
      "cell_type": "markdown",
      "metadata": {},
      "source": [
        "## Load a demo signal for Xtract\nLoad a demo signal from a WAV file using the ``LoadWav`` class.\nThe WAV file contains harmonics and shocks.\n\n"
      ]
    },
    {
      "cell_type": "code",
      "execution_count": null,
      "metadata": {
        "collapsed": false
      },
      "outputs": [],
      "source": [
        "# Return the input data of the example file\npath_xtract_demo_signal_1 = download_xtract_demo_signal_1_wav(my_server)\n\n# Load the WAV file\nwav_loader = LoadWav(path_to_wav=path_xtract_demo_signal_1)\nwav_loader.process()\n\n# Plot the signal in time domain\ntime_domain_signal = wav_loader.get_output()[0]\ntime = time_domain_signal.time_freq_support.time_frequencies\ntime_vector = time.data\ntime_unit = time.unit\nplt.plot(time_vector, time_domain_signal.data)\nplt.title(\"Xtract Demo Signal 1\")\nplt.grid(True)\nplt.xlabel(f\"Time ({time_unit})\")\nplt.ylabel(f\"Amplitude ({time_domain_signal.unit})\")\nplt.show()\n\n# Compute the spectrogram of the signal and plot it\nstft_original = Stft(signal=wav_loader.get_output()[0], fft_size=1024, window_overlap=0.9)\nstft_original.process()\nmax_stft = 20 * np.log10(np.max(stft_original.get_stft_magnitude_as_nparray()))\n\nplot_stft(stft_original, SPLmax=max_stft, maximum_frequency=20000.0)"
      ]
    },
    {
      "cell_type": "markdown",
      "metadata": {},
      "source": [
        "## Use individual extraction features\nThe following topics show how to use different capabilities of Xtract independently.\n\n"
      ]
    },
    {
      "cell_type": "markdown",
      "metadata": {},
      "source": [
        "### Noise extraction\nThe goal is to isolate a fan noise deprived of any tonal content in the demo signal.\n\n"
      ]
    },
    {
      "cell_type": "code",
      "execution_count": null,
      "metadata": {
        "collapsed": false
      },
      "outputs": [],
      "source": [
        "# Create a noise pattern using the first two seconds of the signal.\n# First crop the first two seconds of the signal.\nsignal_cropper = CropSignal(signal=time_domain_signal, start_time=0.0, end_time=2.0)\nsignal_cropper.process()\ncropped_signal = signal_cropper.get_output()\n\n# Then use the 'XtractDenoiserParameters' class to create the noise pattern.\nxtract_denoiser_params = XtractDenoiserParameters()\nxtract_denoiser_params.noise_psd = xtract_denoiser_params.create_noise_psd_from_noise_samples(\n    signal=cropped_signal, sampling_frequency=44100.0, window_length=100\n)\n\n# Denoise the signal using the 'XtractDenoiser' class.\nxtract_denoiser = XtractDenoiser(\n    input_signal=time_domain_signal, input_parameters=xtract_denoiser_params\n)\nxtract_denoiser.process()\n\nnoise_signal = xtract_denoiser.get_output()[1]\n\n# Plot the original signal and the noise signal in the same window\nplt.plot(time_vector, time_domain_signal.data, label=\"Original Signal\")\nplt.plot(time_vector, noise_signal.data, label=\"Noise Signal\")\nplt.grid(True)\nplt.xlabel(f\"Time ({time_unit})\")\nplt.ylabel(f\"Amplitude ({time_domain_signal.unit})\")\nplt.title(\"Original Signal and Noise Signal\")\nplt.legend()\nplt.show()"
      ]
    },
    {
      "cell_type": "markdown",
      "metadata": {},
      "source": [
        "### Tone extraction\nThe goal is to isolate the tones using the right settings.\n\n"
      ]
    },
    {
      "cell_type": "code",
      "execution_count": null,
      "metadata": {
        "collapsed": false
      },
      "outputs": [],
      "source": [
        "# Try a first attempt of tone extraction with a\n# First set of parameters using the 'XtractTonalParameters' class.\nxtract_tonal_params = XtractTonalParameters()\nxtract_tonal_params.regularity = 1.0\nxtract_tonal_params.maximum_slope = 1000.0\nxtract_tonal_params.minimum_duration = 0.22\nxtract_tonal_params.intertonal_gap = 10.0\nxtract_tonal_params.local_emergence = 2.0\nxtract_tonal_params.fft_size = 2048\n\n## Now perform the tonal extraction using the 'XtractTonal' class\nxtract_tonal = XtractTonal(input_signal=time_domain_signal, input_parameters=xtract_tonal_params)\nxtract_tonal.process()"
      ]
    },
    {
      "cell_type": "markdown",
      "metadata": {},
      "source": [
        "Plot the spectrogram to assess the quality of the output.\n\n"
      ]
    },
    {
      "cell_type": "code",
      "execution_count": null,
      "metadata": {
        "collapsed": false
      },
      "outputs": [],
      "source": [
        "stft_modified_signal = Stft(signal=xtract_tonal.get_output()[0], fft_size=1024, window_overlap=0.9)\nstft_modified_signal.process()\n\nprint(\"Plot of the spectrograms with tonal extraction parameters that do not work.\")\n\n## Spectrogram of the original signal\nplot_stft(stft_original, SPLmax=max_stft, title=\"Original Signal\")\n\n## Spectrogram of the modified signal\nplot_stft(stft_modified_signal, SPLmax=max_stft, title=\"Extracted Tones\")\n# You can see from the obtained plot that the tones are not properly extracted."
      ]
    },
    {
      "cell_type": "markdown",
      "metadata": {},
      "source": [
        "Try again with a different parameter for the maximum slope.\n\n"
      ]
    },
    {
      "cell_type": "code",
      "execution_count": null,
      "metadata": {
        "collapsed": false
      },
      "outputs": [],
      "source": [
        "xtract_tonal_params.maximum_slope = 5000.0\nxtract_tonal.process()\n\n# Recheck the plots\nprint(\"Plot of the spectrograms with the right tonal extraction parameters.\")\nplot_stft(stft_original, SPLmax=max_stft, title=\"Original Signal\")\n\n# Spectrogram of the modified signal\nstft_modified_signal.signal = xtract_tonal.get_output()[0]\nstft_modified_signal.process()\nplot_stft(stft_modified_signal, SPLmax=max_stft, title=\"Extracted Tones\")"
      ]
    },
    {
      "cell_type": "markdown",
      "metadata": {},
      "source": [
        "### Transient extraction\nThe goal is to isolate the transients using the right settings.\nWhile these settings are not as easy to handle, they are well explained in the tutorial videos\ninstalled with the Ansys Sound Analysis and Specification (SAS) standalone\napplication (with the user interface). You can also find the\n[SAS - XTRACT transient](https://learninghub.ansys.com/share/asset/view/108)\nvideos on the Ansys Learning Hub.\n\n"
      ]
    },
    {
      "cell_type": "code",
      "execution_count": null,
      "metadata": {
        "collapsed": false
      },
      "outputs": [],
      "source": [
        "# Create a set of transient parameters.\n# This example assumes that the best minimum and maximum thresholds are known.\n# You can use the SAS interface to help set up these thresholds interactively.\nxtract_transient_params = XtractTransientParameters(lower_threshold=51.5, upper_threshold=60.0)\n\n# Perform the transient extraction using the 'XtractTransient' class.\nxtract_transient = XtractTransient(\n    input_signal=time_domain_signal, input_parameters=xtract_transient_params\n)\nxtract_transient.process()\ntransient_signal = xtract_transient.get_output()[0]\n\n# Plot the original signal and the transient signal in the same window\nplt.plot(time_vector, time_domain_signal.data, label=\"Original Signal\", linewidth=0.1)\nplt.plot(time_vector, transient_signal.data, label=\"Transient Signal\", linewidth=0.1)\nplt.grid(True)\nplt.xlabel(f\"Time ({time_unit})\")\nplt.ylabel(f\"Amplitude ({time_domain_signal.unit})\")\nplt.title(\"Original Signal and Transient signal\")\nleg = plt.legend()\nfor line in leg.get_lines():\n    line.set_linewidth(0.5)\nplt.show()"
      ]
    },
    {
      "cell_type": "markdown",
      "metadata": {},
      "source": [
        "## Use a combination of extraction features and loop on several signals\nThe idea here is to loop over several signals and use the ``Xtract`` class to combine\nall previous classes.\n\n"
      ]
    },
    {
      "cell_type": "code",
      "execution_count": null,
      "metadata": {
        "collapsed": false
      },
      "outputs": [],
      "source": [
        "path_xtract_demo_signal_2 = download_xtract_demo_signal_2_wav(my_server)\n\npaths = [path_xtract_demo_signal_1, path_xtract_demo_signal_2]\n\n# Instantiate the 'Xtract' class with the parameters previously set\nxtract = Xtract(\n    parameters_denoiser=xtract_denoiser_params,\n    parameters_tonal=xtract_tonal_params,\n    parameters_transient=xtract_transient_params,\n)\n\n# Loop over all signal paths contained in the 'paths' variable\nfor p in paths:\n    # Name the signal using the file name\n    signal_name = os.path.basename(p)\n\n    # Load the signal\n    wav_loader.path_to_wav = p\n    wav_loader.process()\n    time_domain_signal = wav_loader.get_output()[0]\n\n    # Plot the time domain signal\n    ylims = [-3.0, 3.0]\n    plt.figure()\n    plt.plot(time_vector, time_domain_signal.data, label=\"Original Signal\")\n    plt.ylim(ylims)\n    plt.xlabel(f\"Time ({time_unit})\")\n    plt.ylabel(f\"Amplitude ({time_domain_signal.unit})\")\n    plt.grid()\n    plt.legend()\n    plt.title(signal_name)\n    plt.show()\n\n    # Compute and plot the STFT\n    stft_original.signal = time_domain_signal\n    stft_original.process()\n    plot_stft(stft=stft_original, SPLmax=max_stft, title=f\"STFT for signal {signal_name}\")\n\n    # Use Xtract with the loaded signal\n    xtract.input_signal = time_domain_signal\n    xtract.process()\n\n    # Collect outputs and plot everything in one window\n    noise_signal, tonal_signal, transient_signal, remainder_signal = xtract.get_output()\n\n    f, axs = plt.subplots(nrows=5)\n    axs[0].plot(time_vector, time_domain_signal.data, label=\"Original Signal\", color=\"blue\")\n    axs[1].plot(time_vector, noise_signal.data, label=\"Noise Signal\", color=\"red\")\n    axs[2].plot(time_vector, tonal_signal.data, label=\"Tonal Signal\", color=\"green\")\n    axs[2].set(ylabel=f\"Amplitude ({time_domain_signal.unit})\")  # Set ylabel for middle plot only\n    axs[3].plot(time_vector, transient_signal.data, label=\"Transient Signal\", color=\"purple\")\n    axs[4].plot(time_vector, remainder_signal.data, label=\"Remainder Signal\", color=\"black\")\n\n    for ax in axs:\n        ax.set_ylim(ylims)\n        ax.grid()\n        ax.legend()\n        ax.set_aspect(\"auto\")\n\n    plt.xlabel(f\"Time ({time_unit})\")\n    plt.legend()\n    plt.suptitle(f\"Original and extracted signals for {signal_name}\")\n    plt.show()"
      ]
    }
  ],
  "metadata": {
    "kernelspec": {
      "display_name": "Python 3",
      "language": "python",
      "name": "python3"
    },
    "language_info": {
      "codemirror_mode": {
        "name": "ipython",
        "version": 3
      },
      "file_extension": ".py",
      "mimetype": "text/x-python",
      "name": "python",
      "nbconvert_exporter": "python",
      "pygments_lexer": "ipython3",
      "version": "3.12.10"
    }
  },
  "nbformat": 4,
  "nbformat_minor": 0
}