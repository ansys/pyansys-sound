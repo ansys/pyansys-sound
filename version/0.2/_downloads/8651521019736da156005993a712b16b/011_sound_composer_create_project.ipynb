{
  "cells": [
    {
      "cell_type": "markdown",
      "metadata": {},
      "source": [
        "\n\n# Create and work with a Sound Composer project\n\nThe Sound Composer is a tool that allows you to generate the sound of a system by combining the\nsounds of its components, which we call sources here. Each source can be made of data coming from\ntest analysis, or from a simulation, or simply consist of a single audio recording. The sources are\ncombined into a Sound Composer project, where each source is assigned to a track.\n\nA track is a data structure made of a source data, a source control data, an output gain, and,\noptionally, a transfer function in the form of a digital filter (which models the transfer from the\nsource to the listening/recording position). It can generate the sound of the\ncomponent (as characterized by the source data), in specific operating conditions (the source\ncontrol), and filtered according to the transfer function.\n\nThis example shows how to create a Sound Composer project, with the :class:`.SoundComposer` class.\nIt first creates a new project, then adds tracks to it, and finally generates the sound of the\nproject.\n\nThe example shows how to perform these operations:\n\n- Create a project,\n- Create a track with a source of type Harmonics, and add it to the project\n- Create a track with a source of type Spectrum, and add it to the project\n- Generate the signal of the project,\n- Display the spectrogram of the generated signal,\n- Save the project as an .scn file.\n"
      ]
    },
    {
      "cell_type": "markdown",
      "metadata": {},
      "source": [
        "## Set up analysis\nSetting up the analysis consists of loading the required libraries,\nconnecting to the DPF server, and downloading the data files required in this example.\n\n"
      ]
    },
    {
      "cell_type": "code",
      "execution_count": null,
      "metadata": {
        "collapsed": false
      },
      "outputs": [],
      "source": [
        "from ansys.sound.core.examples_helpers import (\n    download_sound_composer_FRF_eMotor,\n    download_sound_composer_source_control_eMotor,\n    download_sound_composer_source_control_WindRoadNoise,\n    download_sound_composer_source_eMotor,\n    download_sound_composer_source_WindRoadNoise,\n)\n\n# Load Ansys libraries.\nfrom ansys.sound.core.server_helpers import connect_to_or_start_server\nfrom ansys.sound.core.signal_processing import Filter\nfrom ansys.sound.core.sound_composer import (\n    SoundComposer,\n    SourceBroadbandNoise,\n    SourceControlTime,\n    SourceHarmonics,\n    Track,\n)\nfrom ansys.sound.core.spectrogram_processing import Stft\n\n\n# Connect to a remote server or start a local server.\nmy_server, my_license_context = connect_to_or_start_server(use_license_context=True)\n\n# Download the necessary files for each source considered in this exeample: the source file\n# containing the acoustic definition of the source, the control profile file containing the\n# operating conditions of the source (engine or vehicle speed over time), and optionally the FRF\n# file containing the source's transfer function.\npath_sound_composer_source_eMotor = download_sound_composer_source_eMotor(server=my_server)\npath_sound_composer_sourcecontrol_eMotor = download_sound_composer_source_control_eMotor(\n    server=my_server\n)\npath_sound_composer_FRF_eMotor = download_sound_composer_FRF_eMotor(server=my_server)\npath_sound_composer_source_WindRoadNoise = download_sound_composer_source_WindRoadNoise(\n    server=my_server\n)\npath_sound_composer_sourcecontrol_WindRoadNoise = (\n    download_sound_composer_source_control_WindRoadNoise(server=my_server)\n)"
      ]
    },
    {
      "cell_type": "markdown",
      "metadata": {},
      "source": [
        "## Create a new Sound Composer project\nTo create a new Sound Composer project, instantiate the :class:`.SoundComposer` class.\nSources will be combined as tracks into this instance, allowing you to generate the sound of the\nproject.\n\n"
      ]
    },
    {
      "cell_type": "code",
      "execution_count": null,
      "metadata": {
        "collapsed": false
      },
      "outputs": [],
      "source": [
        "sound_composer_project = SoundComposer()"
      ]
    },
    {
      "cell_type": "markdown",
      "metadata": {},
      "source": [
        "## Create track #1 for the e-motor source\nTo model the noise of the e-motor, we create a track with a harmonics source, which contains the\nharmonics of the e-motor noise. The track also contains a source control that defines the\noperating conditions of the e-motor, and a filter that represents the transfer function of the\ne-motor noise source to the receiver point, usually the driver position.\n\n"
      ]
    },
    {
      "cell_type": "markdown",
      "metadata": {},
      "source": [
        "Create a new Sound Composer track, meant as a recipient for the e-motor data.\n\n"
      ]
    },
    {
      "cell_type": "code",
      "execution_count": null,
      "metadata": {
        "collapsed": false
      },
      "outputs": [],
      "source": [
        "track_eMotor = Track(name=\"eMotor harmonics noise\")"
      ]
    },
    {
      "cell_type": "markdown",
      "metadata": {},
      "source": [
        "Create a harmonics source, using the :class:`.SourceHarmonics` class, passing the path to the\nsource file as an argument. This file contains the levels of the harmonics of the e-motor noise\nfor several engine speed values.\n\n"
      ]
    },
    {
      "cell_type": "code",
      "execution_count": null,
      "metadata": {
        "collapsed": false
      },
      "outputs": [],
      "source": [
        "source_eMotor = SourceHarmonics(file=path_sound_composer_source_eMotor)"
      ]
    },
    {
      "cell_type": "markdown",
      "metadata": {},
      "source": [
        "Create a source control profile, using the :class:`.SourceControlTime` class.\nThis source control profile defines the operating conditions of the e-motor, here the speed of\nthe e-motor, increasing from 250 to 5000 rpm in 8 seconds.\n\n"
      ]
    },
    {
      "cell_type": "code",
      "execution_count": null,
      "metadata": {
        "collapsed": false
      },
      "outputs": [],
      "source": [
        "source_control_eMotor = SourceControlTime(file_str=path_sound_composer_sourcecontrol_eMotor)"
      ]
    },
    {
      "cell_type": "markdown",
      "metadata": {},
      "source": [
        "Create a filter, using the :class:`.Filter` class.\nThis filter models the transfer function (FRF) of the e-motor noise source to the receiver point.\n\n"
      ]
    },
    {
      "cell_type": "code",
      "execution_count": null,
      "metadata": {
        "collapsed": false
      },
      "outputs": [],
      "source": [
        "filter_eMotor = Filter(file=path_sound_composer_FRF_eMotor)"
      ]
    },
    {
      "cell_type": "markdown",
      "metadata": {},
      "source": [
        "Assign created objects to the track.\n\n"
      ]
    },
    {
      "cell_type": "code",
      "execution_count": null,
      "metadata": {
        "collapsed": false
      },
      "outputs": [],
      "source": [
        "# Assign the source control to the source.\nsource_eMotor.source_control = source_control_eMotor\n\n# Assign the source to the track.\ntrack_eMotor.source = source_eMotor\n\n# Assign the filter to the track.\ntrack_eMotor.filter = filter_eMotor"
      ]
    },
    {
      "cell_type": "markdown",
      "metadata": {},
      "source": [
        "Add the track to the Sound Composer project. It is the first track of this project.\n\n"
      ]
    },
    {
      "cell_type": "code",
      "execution_count": null,
      "metadata": {
        "collapsed": false
      },
      "outputs": [],
      "source": [
        "sound_composer_project.add_track(track_eMotor)"
      ]
    },
    {
      "cell_type": "markdown",
      "metadata": {},
      "source": [
        "## Create track #2 for the wind and road noise source\nTo model the wind and road noise produced in the cabin while driving, we create a track with a\nbroadband noise source, whose spectrum envelope changes according to change in the speed of the\nvehicle over time.\n\n"
      ]
    },
    {
      "cell_type": "markdown",
      "metadata": {},
      "source": [
        "Create a new Sound Composer track, meant as a recipient for the wind and road noise data.\n\n"
      ]
    },
    {
      "cell_type": "code",
      "execution_count": null,
      "metadata": {
        "collapsed": false
      },
      "outputs": [],
      "source": [
        "track_WindRoadNoise = Track(name=\"Wind and road noise\")"
      ]
    },
    {
      "cell_type": "markdown",
      "metadata": {},
      "source": [
        "Create a broadband noise source, using the :class:`.SourceBroadbandNoise` class.\n\n"
      ]
    },
    {
      "cell_type": "code",
      "execution_count": null,
      "metadata": {
        "collapsed": false
      },
      "outputs": [],
      "source": [
        "source_WindRoadNoise = SourceBroadbandNoise(file=path_sound_composer_source_WindRoadNoise)"
      ]
    },
    {
      "cell_type": "markdown",
      "metadata": {},
      "source": [
        "Create a source control profile, using the :class:`.SourceControlTime` class. This source control\ndescribes the change of vehicle speed over time.\n\n"
      ]
    },
    {
      "cell_type": "code",
      "execution_count": null,
      "metadata": {
        "collapsed": false
      },
      "outputs": [],
      "source": [
        "source_control_WindRoadNoise = SourceControlTime(\n    file_str=path_sound_composer_sourcecontrol_WindRoadNoise\n)"
      ]
    },
    {
      "cell_type": "markdown",
      "metadata": {},
      "source": [
        "Assign created objects to the track.\n\n"
      ]
    },
    {
      "cell_type": "code",
      "execution_count": null,
      "metadata": {
        "collapsed": false
      },
      "outputs": [],
      "source": [
        "# Assign the source control to the source.\nsource_WindRoadNoise.source_control = source_control_WindRoadNoise\n\n# Assign the source to the track\ntrack_WindRoadNoise.source = source_WindRoadNoise"
      ]
    },
    {
      "cell_type": "markdown",
      "metadata": {},
      "source": [
        "Add the track to the Sound Composer project. It is the second track of this project.\n\n"
      ]
    },
    {
      "cell_type": "code",
      "execution_count": null,
      "metadata": {
        "collapsed": false
      },
      "outputs": [],
      "source": [
        "sound_composer_project.add_track(track_WindRoadNoise)"
      ]
    },
    {
      "cell_type": "markdown",
      "metadata": {},
      "source": [
        "## Generate the signal of the project\nNow, let us generate the signal of the project using the :meth:`.SoundComposer.process()` method.\nThis method generates, for each track, the acoustic signal of the source, filters it with the\nassociated filter, if any, and applies the track gain, and finally sums all resulting tracks'\nsignals together.\n\n"
      ]
    },
    {
      "cell_type": "markdown",
      "metadata": {},
      "source": [
        "Generate the signal of the project, using a sampling frequency of 44100 Hz.\n\n"
      ]
    },
    {
      "cell_type": "code",
      "execution_count": null,
      "metadata": {
        "collapsed": false
      },
      "outputs": [],
      "source": [
        "sound_composer_project.process(sampling_frequency=44100.0)"
      ]
    },
    {
      "cell_type": "markdown",
      "metadata": {},
      "source": [
        "Display the generated signal using the :meth:`.SoundComposer.plot()` method.\n\n"
      ]
    },
    {
      "cell_type": "code",
      "execution_count": null,
      "metadata": {
        "collapsed": false
      },
      "outputs": [],
      "source": [
        "sound_composer_project.plot()"
      ]
    },
    {
      "cell_type": "markdown",
      "metadata": {},
      "source": [
        "Use the built-in :func:`print()` function to display a summary of the content of the project.\n\n"
      ]
    },
    {
      "cell_type": "code",
      "execution_count": null,
      "metadata": {
        "collapsed": false
      },
      "outputs": [],
      "source": [
        "print(sound_composer_project)"
      ]
    },
    {
      "cell_type": "markdown",
      "metadata": {},
      "source": [
        "Retrieve the resulting signal as a DPF :class:`Field <ansys.dpf.core.field.Field>` object.\n\n"
      ]
    },
    {
      "cell_type": "code",
      "execution_count": null,
      "metadata": {
        "collapsed": false
      },
      "outputs": [],
      "source": [
        "generated_signal_from_project = sound_composer_project.get_output()"
      ]
    },
    {
      "cell_type": "markdown",
      "metadata": {},
      "source": [
        "Display the spectrogram of the generated signal using the :class:`.Stft` class.\n\n"
      ]
    },
    {
      "cell_type": "code",
      "execution_count": null,
      "metadata": {
        "collapsed": false
      },
      "outputs": [],
      "source": [
        "spectrogram = Stft(signal=generated_signal_from_project)\nspectrogram.process()\nspectrogram.plot()"
      ]
    },
    {
      "cell_type": "markdown",
      "metadata": {},
      "source": [
        "## Save the entire Sound Composer project\nYou can save the Sound Composer project for later use, using the :meth:`.SoundComposer.save()`\nmethod. This saves the project into a file with the extension \"`.scn`\" (Sound Composer project\nfile). This file can be loaded in Ansys Sound Analysis & Specification.\n\n"
      ]
    },
    {
      "cell_type": "code",
      "execution_count": null,
      "metadata": {
        "collapsed": false
      },
      "outputs": [],
      "source": [
        "sound_composer_project.save(project_path=\"My_SoundComposer_Project.scn\")"
      ]
    },
    {
      "cell_type": "markdown",
      "metadata": {},
      "source": [
        "## Conclusion\nThis workflow allows you to analyze and listen to the sound of an e-motor, in\nrealistic conditions, that is, including the background noise inside the cabin.\n\nBy analyzing the spectrogram, you can anticipate how some harmonic tones from the e-motor\nmay be perceived by the passengers in the cabin.\n\nFurther investigations can be conducted, using other tools included in PyAnsys\nSound, such as modules :mod:`Standard levels <ansys.sound.core.standard_levels>`,\n:mod:`Psychoacoustics <ansys.sound.core.psychoacoustics>` and\n:mod:`Spectral processing <ansys.sound.core.spectral_processing>`.\n\n"
      ]
    }
  ],
  "metadata": {
    "kernelspec": {
      "display_name": "Python 3",
      "language": "python",
      "name": "python3"
    },
    "language_info": {
      "codemirror_mode": {
        "name": "ipython",
        "version": 3
      },
      "file_extension": ".py",
      "mimetype": "text/x-python",
      "name": "python",
      "nbconvert_exporter": "python",
      "pygments_lexer": "ipython3",
      "version": "3.12.10"
    }
  },
  "nbformat": 4,
  "nbformat_minor": 0
}