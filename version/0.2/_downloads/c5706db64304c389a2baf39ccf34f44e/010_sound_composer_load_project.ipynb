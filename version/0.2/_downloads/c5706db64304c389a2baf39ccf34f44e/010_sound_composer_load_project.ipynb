{
  "cells": [
    {
      "cell_type": "markdown",
      "metadata": {},
      "source": [
        "\n\n# Use an existing Sound Composer project file\n\nThe Sound Composer is a tool that allows you to generate the sound of a system by combining the\nsounds of its components, which we call sources here. Each source can be made of data coming from\ntest analysis, or from a simulation, or simply consist of a single audio recording. The sources are\ncombined into a Sound Composer project, where each source is assigned to a track.\n\nA track is a data structure made of a source data, a source control data, an output gain, and,\noptionally, a transfer function in the form of a digital filter (which models the transfer from the\nsource to the listening/recording position). It can generate the sound of the\ncomponent (as characterized by the source data), in specific operating conditions (the source\ncontrol), and filtered according to the transfer function.\n\nThis example shows how to use the Sound Composer, with the :class:`.SoundComposer` class. It starts\nfrom an existing Sound Composer project file, and illustrates the notions of Sound Composer project,\ntrack, source, source control, and filter.\n\nThe example shows how to perform these operations:\n\n- Load a project file,\n- Get the project information and content,\n- Investigate the content of a track,\n- Generate the signal of a track,\n- Generate the signal of the entire Sound Composer project.\n"
      ]
    },
    {
      "cell_type": "markdown",
      "metadata": {},
      "source": [
        "## Set up analysis\nSetting up the analysis consists of loading the required libraries,\nand connecting to the DPF server.\n\n"
      ]
    },
    {
      "cell_type": "code",
      "execution_count": null,
      "metadata": {
        "collapsed": false
      },
      "outputs": [],
      "source": [
        "# Load Ansys libraries.\nfrom ansys.sound.core.examples_helpers import download_sound_composer_project_whatif\nfrom ansys.sound.core.server_helpers import connect_to_or_start_server\nfrom ansys.sound.core.sound_composer import SoundComposer\nfrom ansys.sound.core.spectrogram_processing import Stft\n\n\n# Connect to a remote server or start a local server.\nmy_server, lic_context = connect_to_or_start_server(use_license_context=True)"
      ]
    },
    {
      "cell_type": "markdown",
      "metadata": {},
      "source": [
        "## Load a Sound Composer project from a file\nLoad a Sound Composer project, using the :meth:`.SoundComposer.load()` method. A Sound Composer\nproject file has the extension .scn, and can be created with Ansys Sound SAS.\n\n"
      ]
    },
    {
      "cell_type": "code",
      "execution_count": null,
      "metadata": {
        "collapsed": false
      },
      "outputs": [],
      "source": [
        "# Download the Sound Composer project file used in this example.\npath_sound_composer_project_scn = download_sound_composer_project_whatif(server=my_server)\n\n# Create a SoundComposer object and load the project.\nsound_composer_project = SoundComposer()\nsound_composer_project.load(path_sound_composer_project_scn)"
      ]
    },
    {
      "cell_type": "markdown",
      "metadata": {},
      "source": [
        "You can use built-in :func:`print()` function to display a summary of the content of the project.\n\n"
      ]
    },
    {
      "cell_type": "code",
      "execution_count": null,
      "metadata": {
        "collapsed": false
      },
      "outputs": [],
      "source": [
        "print(sound_composer_project)"
      ]
    },
    {
      "cell_type": "markdown",
      "metadata": {},
      "source": [
        "You can see that this project is made of 4 tracks:\n\n"
      ]
    },
    {
      "cell_type": "markdown",
      "metadata": {},
      "source": [
        "- a track with a harmonics source, coming form the FEM simulation of an e-motor,\n- a track with another harmonics source, coming from the multibody simulation of a gearbox,\n- a track with a broadband noise source, coming from the CFD simulation of a HVAC system,\n- a track with another broadband noise source, coming form the analysis of a background noise\n  measurement in the cabin, which would correspond to the rolling noise and the wind noise.\n\n"
      ]
    },
    {
      "cell_type": "markdown",
      "metadata": {},
      "source": [
        "## Explore the project's list of tracks\nLet us have a closer look at the content of each individual track by printing it.\n\n"
      ]
    },
    {
      "cell_type": "code",
      "execution_count": null,
      "metadata": {
        "collapsed": false
      },
      "outputs": [],
      "source": [
        "for i, track in enumerate(sound_composer_project.tracks, start=1):\n    print(f\"--- Track n. {i} ---\\n{track}\\n\")"
      ]
    },
    {
      "cell_type": "markdown",
      "metadata": {},
      "source": [
        "For each track, you can see some details about the source content, the associated control profile,\nand whether the track includes a filter or not.\n\n"
      ]
    },
    {
      "cell_type": "markdown",
      "metadata": {},
      "source": [
        "## Explore the content of a track\nTo look at a specific track, use the attribute :attr:`.tracks` of the :class:`.SoundComposer`\nobject, containing the list of the tracks included.\nFor example, let us extract the second track of the project, which contains the gearbox source.\n\nThe track object returned is of type :class:`.Track`. You can print it to display its content,\nas shown in the previous section.\n\n"
      ]
    },
    {
      "cell_type": "code",
      "execution_count": null,
      "metadata": {
        "collapsed": false
      },
      "outputs": [],
      "source": [
        "track_gear = sound_composer_project.tracks[1]"
      ]
    },
    {
      "cell_type": "markdown",
      "metadata": {},
      "source": [
        "This track contains a harmonics source, stored in its :attr:`.Track.source` attribute of\ntype :class:`.SourceHarmonics`. Here, it consists of a set of 50 harmonics, which are defined by\ntheir order numbers, and their levels over 249 values of the control parameter (RPM).\n\nThese data are stored in the :attr:`.SourceHarmonics.source_harmonics`\nattribute of the track's source object, as a :class:`FieldsContainer\n<ansys.dpf.core.fields_container.FieldsContainer>` object. It contains 249 fields, each\ncorresponding to a specific value of the control parameter (RPM), and containing\nthe levels in Pa\u00b2 of the 50 harmonics at this RPM value.\n\n"
      ]
    },
    {
      "cell_type": "code",
      "execution_count": null,
      "metadata": {
        "collapsed": false
      },
      "outputs": [],
      "source": [
        "print(\n    f\"Number of RPM points defined in the source dataset: \"\n    f\"{len(track_gear.source.source_harmonics)}\"\n)"
      ]
    },
    {
      "cell_type": "markdown",
      "metadata": {},
      "source": [
        "The source control data (that is, the RPM values over time) can be accessed using the\n:attr:`.SourceHarmonics.source_control` attribute of the source in the track. Let us display this\ncontrol profile in a figure: it is a linear ramp-up from 250 rpm to 5000 rpm, over 8 seconds.\n\n"
      ]
    },
    {
      "cell_type": "code",
      "execution_count": null,
      "metadata": {
        "collapsed": false
      },
      "outputs": [],
      "source": [
        "track_gear.source.plot_control()"
      ]
    },
    {
      "cell_type": "markdown",
      "metadata": {},
      "source": [
        "The track also contains a filter, stored as a :class:`.Filter` object.\nHere, it is a finite impulse response (FIR) filter that models the transfer between the source\nand the listening position.\n\n"
      ]
    },
    {
      "cell_type": "code",
      "execution_count": null,
      "metadata": {
        "collapsed": false
      },
      "outputs": [],
      "source": [
        "track_gear.filter\nprint(track_gear.filter)"
      ]
    },
    {
      "cell_type": "markdown",
      "metadata": {},
      "source": [
        "Let us generate the signal corresponding to the track using the :meth:`.Track.process()` method,\nplot its waveform, and display its spectrogram with the :class:`.Stft` class.\n\n"
      ]
    },
    {
      "cell_type": "code",
      "execution_count": null,
      "metadata": {
        "collapsed": false
      },
      "outputs": [],
      "source": [
        "track_gear.process(sampling_frequency=44100.0)\ntrack_gear.plot()\n\nspectrogram_gear = Stft(signal=track_gear.get_output())\nspectrogram_gear.process()\nspectrogram_gear.plot()"
      ]
    },
    {
      "cell_type": "markdown",
      "metadata": {},
      "source": [
        "If needed, you can access the output signal of a track using :meth:`.Track.get_output()`.\n\n"
      ]
    },
    {
      "cell_type": "code",
      "execution_count": null,
      "metadata": {
        "collapsed": false
      },
      "outputs": [],
      "source": [
        "signal_gear = track_gear.get_output()"
      ]
    },
    {
      "cell_type": "markdown",
      "metadata": {},
      "source": [
        "## Generate the signal of the project\nNow, let us generate the signal of the project using the :meth:`.SoundComposer.process()` method.\nThis method generates, for each track, the acoustic signal of the source, filters it with the\nassociated filter, if any, and applies the track gain, and finally sums all resulting tracks'\nsignals together.\n\n"
      ]
    },
    {
      "cell_type": "markdown",
      "metadata": {},
      "source": [
        "Generate the signal of the project, using a sampling frequency of 44100 Hz.\n\n"
      ]
    },
    {
      "cell_type": "code",
      "execution_count": null,
      "metadata": {
        "collapsed": false
      },
      "outputs": [],
      "source": [
        "sound_composer_project.process(sampling_frequency=44100.0)"
      ]
    },
    {
      "cell_type": "markdown",
      "metadata": {},
      "source": [
        "You can display the waveform of the generated signal using the :meth:`.SoundComposer.plot()`\nmethod, and its spectrogram using the :class:`.Stft` class.\n\n"
      ]
    },
    {
      "cell_type": "code",
      "execution_count": null,
      "metadata": {
        "collapsed": false
      },
      "outputs": [],
      "source": [
        "sound_composer_project.plot()\n\nspectrogram = Stft(signal=sound_composer_project.get_output())\nspectrogram.process()\nspectrogram.plot()"
      ]
    },
    {
      "cell_type": "markdown",
      "metadata": {},
      "source": [
        "## Conclusion\nThis workflow allows you to analyze and listen to the sound of the gearbox and the e-motor, in\nrealistic conditions, that is, including the HVAC noise and the background noise inside the cabin.\n\nBy analyzing the spectrogram, you can anticipate how some harmonic tones from the e-motor and the\ngearbox may be perceived by the passengers in the cabin.\n\nFurther investigations can be conducted, using other tools included in PyAnsys\nSound, such as modules :mod:`Standard levels <ansys.sound.core.standard_levels>`,\n:mod:`Psychoacoustics <ansys.sound.core.psychoacoustics>` and\n:mod:`Spectral processing <ansys.sound.core.spectral_processing>`.\n\n"
      ]
    }
  ],
  "metadata": {
    "kernelspec": {
      "display_name": "Python 3",
      "language": "python",
      "name": "python3"
    },
    "language_info": {
      "codemirror_mode": {
        "name": "ipython",
        "version": 3
      },
      "file_extension": ".py",
      "mimetype": "text/x-python",
      "name": "python",
      "nbconvert_exporter": "python",
      "pygments_lexer": "ipython3",
      "version": "3.12.10"
    }
  },
  "nbformat": 4,
  "nbformat_minor": 0
}