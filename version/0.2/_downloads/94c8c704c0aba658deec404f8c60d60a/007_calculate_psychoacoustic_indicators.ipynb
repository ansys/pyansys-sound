{
  "cells": [
    {
      "cell_type": "markdown",
      "metadata": {},
      "source": [
        "\n\n# Calculate psychoacoustic indicators\n\nThis example shows how to calculate psychoacoustic indicators.\nThe following indicators are included:\n\n- Loudness of stationary sounds according to ISO 532-1.\n- Loudness of time-varying sounds, according to ISO 532-1.\n- Monaural and binaural loudness of stationary sounds according to ISO 532-2.\n- Sharpness according to Zwicker and Fastl, \"Psychoacoustics: Facts and models\", 1990.\n- Sharpness according to Zwicker and Fastl, over time.\n- Sharpness according to DIN 45692.\n- Sharpness according to DIN 45692, over time.\n- Roughness and roughness over time according to Daniel and Weber, \"Psychoacoustical Roughness:\n  Implementation of an Optimized Model, 1997.\n- Fluctuation strength according to Sontacchi, \"Entwicklung eines Modulkonzeptes f\u00fcr die\n  psychoakustische Ger\u00e4uschanalyse under MatLab\", 1998.\n\nThe example shows how to perform these operations:\n\n- Set up the analysis.\n- Calculate indicators on loaded WAV files.\n- Get calculation outputs.\n- Plot some corresponding curves.\n"
      ]
    },
    {
      "cell_type": "markdown",
      "metadata": {},
      "source": [
        "## Set up analysis\nSetting up the analysis consists of loading libraries, and connecting to the DPF server.\n\n"
      ]
    },
    {
      "cell_type": "code",
      "execution_count": null,
      "metadata": {
        "collapsed": false
      },
      "outputs": [],
      "source": [
        "# Load standard libraries.\nimport os\n\n# Load Ansys libraries.\nfrom ansys.sound.core.examples_helpers import (\n    download_accel_with_rpm_wav,\n    download_flute_wav,\n)\nfrom ansys.sound.core.psychoacoustics import (\n    FluctuationStrength,\n    LoudnessISO532_1_Stationary,\n    LoudnessISO532_1_TimeVarying,\n    LoudnessISO532_2,\n    Roughness,\n    Sharpness,\n    SharpnessDIN45692,\n    SharpnessDIN45692OverTime,\n    SharpnessOverTime,\n)\nfrom ansys.sound.core.psychoacoustics.roughness import Roughness\nfrom ansys.sound.core.psychoacoustics.sharpness import Sharpness\nfrom ansys.sound.core.server_helpers import connect_to_or_start_server\nfrom ansys.sound.core.signal_utilities import LoadWav\n\n# Connect to a remote DPF server or start a local DPF server.\nmy_server, lic_context = connect_to_or_start_server(use_license_context=True)"
      ]
    },
    {
      "cell_type": "markdown",
      "metadata": {},
      "source": [
        "## Load the WAV files used in this example\nLoad the signals from WAV files using the :class:`.LoadWav` class. They are returned as\n:class:`FieldsContainer <ansys.dpf.core.fields_container.FieldsContainer>` objects.\n\n"
      ]
    },
    {
      "cell_type": "code",
      "execution_count": null,
      "metadata": {
        "collapsed": false
      },
      "outputs": [],
      "source": [
        "# Load a first signal from a WAV file: recording of a flute.\npath_flute_wav = download_flute_wav(server=my_server)\nwav_loader = LoadWav(path_flute_wav)\nwav_loader.process()\nsignal_flute = wav_loader.get_output()[0]\n\n# Load another signal from a WAV file: recording of an acceleration inside a car cabin.\npath_accel_wav = download_accel_with_rpm_wav(server=my_server)\nwav_loader = LoadWav(path_accel_wav)\nwav_loader.process()\nsignal_car_acceleration = wav_loader.get_output()[0]\n# Note: This signal contains a second field (RPM profile) that is useless in this example.\n\n# Get file names, for later use.\nfile_name_flute = os.path.basename(path_flute_wav)\nfile_name_car_acceleration = os.path.basename(path_accel_wav)"
      ]
    },
    {
      "cell_type": "markdown",
      "metadata": {},
      "source": [
        "## Calculate ISO 532-1 loudness for a stationary sound\n\n"
      ]
    },
    {
      "cell_type": "markdown",
      "metadata": {},
      "source": [
        "Create a :class:`.LoudnessISO532_1_Stationary` object, set its signal, and compute the loudness\naccording to standard ISO 532-1.\n\n"
      ]
    },
    {
      "cell_type": "code",
      "execution_count": null,
      "metadata": {
        "collapsed": false
      },
      "outputs": [],
      "source": [
        "loudness_ISO532_1_stationary = LoudnessISO532_1_Stationary(signal=signal_flute)\nloudness_ISO532_1_stationary.process()"
      ]
    },
    {
      "cell_type": "markdown",
      "metadata": {},
      "source": [
        "Get the ISO 532-1 loudness (in sone) and loudness level (in phon).\n\n"
      ]
    },
    {
      "cell_type": "code",
      "execution_count": null,
      "metadata": {
        "collapsed": false
      },
      "outputs": [],
      "source": [
        "loudness_ISO532_1_sone = loudness_ISO532_1_stationary.get_loudness_sone()\nloudness_ISO532_1_level_phon = loudness_ISO532_1_stationary.get_loudness_level_phon()\n\nprint(\n    f\"\\nThe ISO 532-1 loudness of sound file {file_name_flute} is \"\n    f\"{loudness_ISO532_1_sone:.1f} sones \"\n    f\"and its loudness level is {loudness_ISO532_1_level_phon:.1f} phons.\"\n)"
      ]
    },
    {
      "cell_type": "markdown",
      "metadata": {},
      "source": [
        "Plot the ISO 532-1 specific loudness, that is, the loudness at each Bark band index.\n\n"
      ]
    },
    {
      "cell_type": "code",
      "execution_count": null,
      "metadata": {
        "collapsed": false
      },
      "outputs": [],
      "source": [
        "loudness_ISO532_1_stationary.plot()"
      ]
    },
    {
      "cell_type": "markdown",
      "metadata": {},
      "source": [
        "## Calculate ISO 532-1 loudness for a time-varying sound\n\n"
      ]
    },
    {
      "cell_type": "markdown",
      "metadata": {},
      "source": [
        "Create a :class:`.LoudnessISO532_1_TimeVarying` object, set its signal, and compute the loudness.\n\n"
      ]
    },
    {
      "cell_type": "code",
      "execution_count": null,
      "metadata": {
        "collapsed": false
      },
      "outputs": [],
      "source": [
        "loudness_ISO532_1_time_varying = LoudnessISO532_1_TimeVarying(signal=signal_car_acceleration)\nloudness_ISO532_1_time_varying.process()"
      ]
    },
    {
      "cell_type": "markdown",
      "metadata": {},
      "source": [
        "Get percentile loudness and loudness level values.\n\n"
      ]
    },
    {
      "cell_type": "code",
      "execution_count": null,
      "metadata": {
        "collapsed": false
      },
      "outputs": [],
      "source": [
        "N5 = loudness_ISO532_1_time_varying.get_N5_sone()\nN10 = loudness_ISO532_1_time_varying.get_N10_sone()\nL5 = loudness_ISO532_1_time_varying.get_L5_phon()\nL10 = loudness_ISO532_1_time_varying.get_L10_phon()\n\nprint(\n    f\"\\nThe sound file {file_name_car_acceleration} has the following percentile \"\n    f\"loudness and loudness level values:\\n\"\n    f\"- N5  = {N5:.1f} sones.\\n\"\n    f\"- N10 = {N10:.1f} sones.\\n\"\n    f\"- L5  = {L5:.1f} phons.\\n\"\n    f\"- L10 = {L10:.1f} phons.\"\n)"
      ]
    },
    {
      "cell_type": "markdown",
      "metadata": {},
      "source": [
        "Plot the ISO 532-1 loudness as a function of time.\n\n"
      ]
    },
    {
      "cell_type": "code",
      "execution_count": null,
      "metadata": {
        "collapsed": false
      },
      "outputs": [],
      "source": [
        "loudness_ISO532_1_time_varying.plot()"
      ]
    },
    {
      "cell_type": "markdown",
      "metadata": {},
      "source": [
        "## Calculate ISO 532-2 loudness for a stationary sound\n\n"
      ]
    },
    {
      "cell_type": "markdown",
      "metadata": {},
      "source": [
        "Create a :class:`.LoudnessISO532_2` object, set its signal, and compute the loudness\naccording to standard ISO 532-2.\n\n"
      ]
    },
    {
      "cell_type": "code",
      "execution_count": null,
      "metadata": {
        "collapsed": false
      },
      "outputs": [],
      "source": [
        "loudness_ISO532_2 = LoudnessISO532_2(signal=signal_flute, field_type=\"Free\")\nloudness_ISO532_2.process()"
      ]
    },
    {
      "cell_type": "markdown",
      "metadata": {},
      "source": [
        "Get the ISO 532-2 binaural and monaural loudness (in sone), and loudness level (in phon).\n\n"
      ]
    },
    {
      "cell_type": "code",
      "execution_count": null,
      "metadata": {
        "collapsed": false
      },
      "outputs": [],
      "source": [
        "loudness_ISO532_2_sone_monaural = loudness_ISO532_2.get_monaural_loudness_sone()[0]\nloudness_ISO532_2_phon_monaural = loudness_ISO532_2.get_monaural_loudness_level_phon()[0]\nloudness_ISO532_2_sone_binaural = loudness_ISO532_2.get_binaural_loudness_sone()\nloudness_ISO532_2_phon_binaural = loudness_ISO532_2.get_binaural_loudness_level_phon()\n\nprint(\n    f\"\\nThe ISO 532-2 loudness of sound file {file_name_flute} is:\\n\"\n    f\"\\tMonaural loudness and loudness level: {loudness_ISO532_2_sone_monaural:.1f} sones, \"\n    f\"{loudness_ISO532_2_phon_monaural:.1f} phons.\\n\"\n    f\"\\tBinaural loudness and loudness level: {loudness_ISO532_2_sone_binaural:.1f} sones, \"\n    f\"{loudness_ISO532_2_phon_binaural:.1f} phons.\"\n)"
      ]
    },
    {
      "cell_type": "markdown",
      "metadata": {},
      "source": [
        "For comparison, display the values previously obtained with the ISO 532-1 standard. The two\nstandard rely on similar auditory principles but differ in the way they estimate the loudness.\n\n"
      ]
    },
    {
      "cell_type": "code",
      "execution_count": null,
      "metadata": {
        "collapsed": false
      },
      "outputs": [],
      "source": [
        "print(\n    f\"\\nThe ISO 532-1 loudness of sound file {file_name_flute} is \"\n    f\"{loudness_ISO532_1_sone:.1f} sones \"\n    f\"and its loudness level is {loudness_ISO532_1_level_phon:.1f} phons.\"\n)"
      ]
    },
    {
      "cell_type": "markdown",
      "metadata": {},
      "source": [
        "Plot the ISO 532-2 binaural specific loudness, that is,\nthe binaural loudness at each center frequency of equivalent rectangular bandwidth (ERB).\n\n"
      ]
    },
    {
      "cell_type": "code",
      "execution_count": null,
      "metadata": {
        "collapsed": false
      },
      "outputs": [],
      "source": [
        "loudness_ISO532_2.plot()"
      ]
    },
    {
      "cell_type": "markdown",
      "metadata": {},
      "source": [
        "## Calculate sharpness, roughness, and fluctuation strength\n\n"
      ]
    },
    {
      "cell_type": "markdown",
      "metadata": {},
      "source": [
        "Calculate the sharpness.\n\n"
      ]
    },
    {
      "cell_type": "code",
      "execution_count": null,
      "metadata": {
        "collapsed": false
      },
      "outputs": [],
      "source": [
        "sharpness = Sharpness(signal=signal_flute, field_type=\"Free\")\nsharpness.process()\nsharpness_value = sharpness.get_sharpness()"
      ]
    },
    {
      "cell_type": "markdown",
      "metadata": {},
      "source": [
        "Calculate the sharpness over time and plot it.\n\n"
      ]
    },
    {
      "cell_type": "code",
      "execution_count": null,
      "metadata": {
        "collapsed": false
      },
      "outputs": [],
      "source": [
        "sharpness_over_time = SharpnessOverTime(signal=signal_flute, field_type=\"Free\")\nsharpness_over_time.process()\nsharpness_over_time.plot()"
      ]
    },
    {
      "cell_type": "markdown",
      "metadata": {},
      "source": [
        "Calculate the sharpness according to standard DIN 45692.\n\n"
      ]
    },
    {
      "cell_type": "code",
      "execution_count": null,
      "metadata": {
        "collapsed": false
      },
      "outputs": [],
      "source": [
        "sharpness_DIN45692 = SharpnessDIN45692(signal=signal_flute, field_type=\"Free\")\nsharpness_DIN45692.process()\nsharpness_DIN45692_value = sharpness_DIN45692.get_sharpness()"
      ]
    },
    {
      "cell_type": "markdown",
      "metadata": {},
      "source": [
        "Calculate the sharpness according to standard DIN 45692, over time, and plot it.\n\n"
      ]
    },
    {
      "cell_type": "code",
      "execution_count": null,
      "metadata": {
        "collapsed": false
      },
      "outputs": [],
      "source": [
        "sharpness_DIN45692_over_time = SharpnessDIN45692OverTime(signal=signal_flute, field_type=\"Free\")\nsharpness_DIN45692_over_time.process()\nsharpness_DIN45692_over_time.plot()"
      ]
    },
    {
      "cell_type": "markdown",
      "metadata": {},
      "source": [
        "Calculate the roughness, and plot the specific roughness and roughness over time.\n\n"
      ]
    },
    {
      "cell_type": "code",
      "execution_count": null,
      "metadata": {
        "collapsed": false
      },
      "outputs": [],
      "source": [
        "# Calculate the specific roughness, the roughness over time, and the overall roughness.\nroughness = Roughness(signal=signal_flute)\nroughness.process()\nroughness_value = roughness.get_roughness()\n\n# Plot the specific roughness and the roughness over time.\nroughness_over_time = roughness.get_roughness_over_time()\nroughness.plot()"
      ]
    },
    {
      "cell_type": "markdown",
      "metadata": {},
      "source": [
        "Calculate the fluctuation strength.\n\n"
      ]
    },
    {
      "cell_type": "code",
      "execution_count": null,
      "metadata": {
        "collapsed": false
      },
      "outputs": [],
      "source": [
        "fluctuation_strength = FluctuationStrength(signal=signal_flute)\nfluctuation_strength.process()\nfluctuation_strength_values = fluctuation_strength.get_fluctuation_strength()"
      ]
    },
    {
      "cell_type": "markdown",
      "metadata": {},
      "source": [
        "Print the calculated indicators.\n\n"
      ]
    },
    {
      "cell_type": "code",
      "execution_count": null,
      "metadata": {
        "collapsed": false
      },
      "outputs": [],
      "source": [
        "print(\n    f\"\\nThe sharpness of sound file {file_name_flute} \"\n    f\"is {sharpness_value:.2f} acum,\\n\"\n    f\"its sharpness according to DIN 45692 is {sharpness_DIN45692_value:.2f} acum,\\n\"\n    f\"its roughness is {roughness_value:.2f} asper,\\n\"\n    f\"and its fluctuation strength is {fluctuation_strength_values:.2f} vacil.\"\n)"
      ]
    }
  ],
  "metadata": {
    "kernelspec": {
      "display_name": "Python 3",
      "language": "python",
      "name": "python3"
    },
    "language_info": {
      "codemirror_mode": {
        "name": "ipython",
        "version": 3
      },
      "file_extension": ".py",
      "mimetype": "text/x-python",
      "name": "python",
      "nbconvert_exporter": "python",
      "pygments_lexer": "ipython3",
      "version": "3.12.10"
    }
  },
  "nbformat": 4,
  "nbformat_minor": 0
}